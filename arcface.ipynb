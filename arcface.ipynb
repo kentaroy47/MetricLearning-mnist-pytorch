{
 "cells": [
  {
   "cell_type": "code",
   "execution_count": 1,
   "metadata": {},
   "outputs": [],
   "source": [
    "# 異常として分類するラベル\n",
    "target = 9"
   ]
  },
  {
   "cell_type": "code",
   "execution_count": 2,
   "metadata": {},
   "outputs": [],
   "source": [
    "import torch\n",
    "import torch.nn.functional as F\n",
    "import torchvision\n",
    "import torchvision.transforms as transforms\n",
    "import numpy as np\n",
    "import torch.nn as nn\n",
    "from tqdm import tqdm_notebook as tqdm\n",
    "\n",
    "TRAIN = True\n",
    "\n",
    "transform = transforms.Compose(\n",
    "    [transforms.ToTensor(),\n",
    "     transforms.Normalize((0.13, ), (0.3, ))])\n",
    "\n",
    "trainset = torchvision.datasets.MNIST(root='./data', \n",
    "                                        train=True,\n",
    "                                        download=True,\n",
    "                                        transform=transform)\n",
    "\n",
    "testset = torchvision.datasets.MNIST(root='./data', \n",
    "                                        train=False, \n",
    "                                        download=True, \n",
    "                                        transform=transform)\n",
    "\n",
    "classes = tuple(np.linspace(0, 9, 10, dtype=np.uint8))"
   ]
  },
  {
   "cell_type": "code",
   "execution_count": 3,
   "metadata": {},
   "outputs": [],
   "source": [
    "raw_y = np.array([int(y) for y in trainset.targets])\n",
    "raw_x = np.array([y for y in trainset.data.numpy()])"
   ]
  },
  {
   "cell_type": "code",
   "execution_count": 4,
   "metadata": {},
   "outputs": [
    {
     "name": "stderr",
     "output_type": "stream",
     "text": [
      "/home/ken/anaconda3/envs/pytorch/lib/python3.8/site-packages/torchvision/datasets/mnist.py:45: UserWarning: train_labels has been renamed targets\n",
      "  warnings.warn(\"train_labels has been renamed targets\")\n"
     ]
    }
   ],
   "source": [
    "idx = trainset.train_labels!=target\n",
    "trainset.targets = trainset.targets[idx]\n",
    "trainset.data = trainset.data[idx]"
   ]
  },
  {
   "cell_type": "code",
   "execution_count": 5,
   "metadata": {},
   "outputs": [],
   "source": [
    "idx = testset.train_labels==target\n",
    "testset.targets = testset.targets[idx]\n",
    "testset.data = testset.data[idx]"
   ]
  },
  {
   "cell_type": "markdown",
   "metadata": {},
   "source": [
    "set dataloader"
   ]
  },
  {
   "cell_type": "code",
   "execution_count": 6,
   "metadata": {},
   "outputs": [],
   "source": [
    "trainloader = torch.utils.data.DataLoader(trainset,\n",
    "                                            batch_size=100,\n",
    "                                            shuffle=True,\n",
    "                                            num_workers=0)\n",
    "testloader = torch.utils.data.DataLoader(testset, \n",
    "                                            batch_size=100,\n",
    "                                            shuffle=False, \n",
    "                                            num_workers=0)"
   ]
  },
  {
   "cell_type": "code",
   "execution_count": 7,
   "metadata": {},
   "outputs": [],
   "source": [
    "# 正常データをサンプル\n",
    "testset_norm = torchvision.datasets.MNIST(root='./data', \n",
    "                                        train=False, \n",
    "                                        download=True, \n",
    "                                        transform=transform)\n",
    "idx = testset_norm.train_labels!=target\n",
    "testset_norm.targets = testset_norm.targets[idx]\n",
    "testset_norm.data = testset_norm.data[idx]\n",
    "testloader1 = torch.utils.data.DataLoader(testset_norm, \n",
    "                                            batch_size=100,\n",
    "                                            shuffle=False, \n",
    "                                            num_workers=0)\n"
   ]
  },
  {
   "cell_type": "markdown",
   "metadata": {},
   "source": [
    "## define model"
   ]
  },
  {
   "cell_type": "code",
   "execution_count": 8,
   "metadata": {},
   "outputs": [],
   "source": [
    "import pretrainedmodels\n",
    "model_name = \"resnet18\"\n",
    "basemodel = pretrainedmodels.__dict__[model_name](num_classes=1000, pretrained='imagenet')\n",
    "basemodel = nn.Sequential(*list(basemodel.children())[1:-2])"
   ]
  },
  {
   "cell_type": "code",
   "execution_count": 9,
   "metadata": {},
   "outputs": [],
   "source": [
    "from metrics import ArcMarginProduct\n",
    "class mymodel(nn.Module):\n",
    "    def __init__(self):\n",
    "        super(mymodel, self).__init__()\n",
    "        self.features = basemodel\n",
    "        self.conv1 = nn.Conv2d(1, 64, kernel_size=3, padding=1, bias=False)\n",
    "        if model_name == \"resnet34\" or model_name == \"resnet18\":\n",
    "            num_ch = 512\n",
    "        else:\n",
    "            num_ch = 2048\n",
    "        self.avgpool = nn.AdaptiveAvgPool2d(1)\n",
    "        # 全結合層で圧縮\n",
    "        self.fc1 = nn.Linear(num_ch, 64)\n",
    "        \n",
    "    def forward(self, x):\n",
    "        # extract features\n",
    "        x = self.conv1(x)\n",
    "        x = self.features(x)\n",
    "        x = self.avgpool(x).squeeze(2).squeeze(2)\n",
    "        x = F.relu(self.fc1(x))\n",
    "        #x1 = self.arcface(x).squeeze(2).squeeze(2)\n",
    "        \n",
    "        return x"
   ]
  },
  {
   "cell_type": "code",
   "execution_count": 10,
   "metadata": {},
   "outputs": [],
   "source": [
    "device = torch.device(\"cuda\" if torch.cuda.is_available() else \"cpu\")\n",
    "model = mymodel()\n",
    "model = model.to(device)"
   ]
  },
  {
   "cell_type": "markdown",
   "metadata": {},
   "source": [
    "# define arcface"
   ]
  },
  {
   "cell_type": "code",
   "execution_count": 11,
   "metadata": {},
   "outputs": [],
   "source": [
    "import math\n",
    "NUM_OF_CLASSES = 9\n",
    "class Arcface_loss(nn.Module):\n",
    "    def __init__(self, feat_dim, num_classes, device=\"cuda\", s=7.0, m=0.2):\n",
    "        super(Arcface_loss, self).__init__()\n",
    "        self.feat_dim = feat_dim\n",
    "        self.num_classes = num_classes\n",
    "        self.s = s\n",
    "        self.m = m\n",
    "        self.weights = nn.Parameter(torch.randn(num_classes, feat_dim))\n",
    "        self.device = device\n",
    "\n",
    "        self.cos_m = math.cos(m)\n",
    "        self.sin_m = math.sin(m)\n",
    "        self.mm = math.sin(math.pi-m)*m\n",
    "        self.threshold = math.cos(math.pi-m)\n",
    "\n",
    "    def forward(self, feat, label):\n",
    "        eps = 1e-4\n",
    "        batch_size = feat.shape[0]\n",
    "        norms = torch.norm(feat, p=2, dim=-1, keepdim=True)\n",
    "        feat_l2norm = torch.div(feat, norms)\n",
    "        feat_l2norm = feat_l2norm * self.s\n",
    "\n",
    "        norms_w = torch.norm(self.weights, p=2, dim=-1, keepdim=True)\n",
    "        weights_l2norm = torch.div(self.weights, norms_w)\n",
    "\n",
    "        fc7 = torch.matmul(feat_l2norm, torch.transpose(weights_l2norm, 0, 1))\n",
    "\n",
    "        if torch.cuda.is_available():\n",
    "            label = label.cuda()\n",
    "            fc7 = fc7.cuda()\n",
    "        else:\n",
    "            label = label.cpu()\n",
    "            fc7 = fc7.cpu()\n",
    "\n",
    "        target_one_hot = torch.zeros(len(label), NUM_OF_CLASSES).to(self.device)\n",
    "        target_one_hot = target_one_hot.scatter_(1, label.unsqueeze(1), 1.)        \n",
    "        zy = torch.addcmul(torch.zeros(fc7.size()).to(self.device), 1., fc7, target_one_hot)\n",
    "        zy = zy.sum(-1)\n",
    "\n",
    "        cos_theta = zy/self.s\n",
    "        cos_theta = cos_theta.clamp(min=-1+eps, max=1-eps) # for numerical stability\n",
    "\n",
    "        theta = torch.acos(cos_theta)\n",
    "        theta = theta+self.m\n",
    "\n",
    "        body = torch.cos(theta)\n",
    "        new_zy = body*self.s\n",
    "\n",
    "        diff = new_zy - zy\n",
    "        diff = diff.unsqueeze(1)\n",
    "\n",
    "        body = torch.addcmul(torch.zeros(diff.size()).to(self.device), 1., diff, target_one_hot)\n",
    "        output = fc7+body\n",
    "\n",
    "        return output.to(self.device)"
   ]
  },
  {
   "cell_type": "code",
   "execution_count": 12,
   "metadata": {},
   "outputs": [],
   "source": [
    "metric_fc = ArcMarginProduct(64, 9).to(device)\n",
    "criterion = torch.nn.CrossEntropyLoss()\n",
    "\n",
    "# optimzer nn\n",
    "optimizer_nn = torch.optim.SGD(model.parameters(), lr=0.001, momentum=0.9, weight_decay=0.0005)\n",
    "\n",
    "# optimzer cosface or arcface\n",
    "optimzer_arcface = torch.optim.SGD(metric_fc.parameters(), lr=0.01)"
   ]
  },
  {
   "cell_type": "markdown",
   "metadata": {},
   "source": [
    "## train script"
   ]
  },
  {
   "cell_type": "code",
   "execution_count": 13,
   "metadata": {},
   "outputs": [],
   "source": [
    "def train(epoch):\n",
    "    model.train()\n",
    "    print('epochs {}/{} '.format(epoch+1,epochs))\n",
    "    running_loss = 0.0\n",
    "    running_acc = 0.0\n",
    "    acc1 = 0.0\n",
    "    acc2 = 0.0\n",
    "    acc3 = 0.0\n",
    "    t = tqdm(trainloader)\n",
    "    \n",
    "    for idx, (inputs,labels1) in enumerate(t):       \n",
    "        # send to gpu\n",
    "        inputs = inputs.to(device)\n",
    "        labels1 = labels1.to(device)\n",
    "        \n",
    "        # set opt\n",
    "        optimizer_nn.zero_grad()\n",
    "        optimzer_arcface.zero_grad()\n",
    "        \n",
    "        # run model\n",
    "        feat = model(inputs.float())\n",
    "        outputs = metric_fc(feat, labels1)\n",
    "\n",
    "        loss = criterion(outputs,labels1)\n",
    "        loss.backward()\n",
    "        \n",
    "        optimizer_nn.step()\n",
    "        optimzer_arcface.step()\n",
    "        \n",
    "        # Compute accuracy\n",
    "        _, predicted = torch.max(outputs.data, 1)\n",
    "        accuracy = (labels1.data == predicted).float().mean()\n",
    "        \n",
    "        if idx%100==0:\n",
    "            print(\"loss:\",loss.item())\n",
    "            print(\"acc:\", accuracy)\n",
    "        "
   ]
  },
  {
   "cell_type": "code",
   "execution_count": 14,
   "metadata": {
    "scrolled": false
   },
   "outputs": [
    {
     "name": "stdout",
     "output_type": "stream",
     "text": [
      "epochs 1/6 \n"
     ]
    },
    {
     "name": "stderr",
     "output_type": "stream",
     "text": [
      "<ipython-input-13-81a1e1149074>:9: TqdmDeprecationWarning: This function will be removed in tqdm==5.0.0\n",
      "Please use `tqdm.notebook.tqdm` instead of `tqdm.tqdm_notebook`\n",
      "  t = tqdm(trainloader)\n"
     ]
    },
    {
     "data": {
      "application/vnd.jupyter.widget-view+json": {
       "model_id": "590676802348405a9d8c3d470e4740e4",
       "version_major": 2,
       "version_minor": 0
      },
      "text/plain": [
       "HBox(children=(FloatProgress(value=0.0, max=541.0), HTML(value='')))"
      ]
     },
     "metadata": {},
     "output_type": "display_data"
    },
    {
     "name": "stdout",
     "output_type": "stream",
     "text": [
      "loss: 20.312061309814453\n",
      "acc: tensor(0., device='cuda:0')\n",
      "loss: 0.3362804651260376\n",
      "acc: tensor(0.9800, device='cuda:0')\n",
      "loss: 0.4617761969566345\n",
      "acc: tensor(0.9600, device='cuda:0')\n",
      "loss: 0.03518768399953842\n",
      "acc: tensor(0.9900, device='cuda:0')\n",
      "loss: 0.024246860295534134\n",
      "acc: tensor(0.9900, device='cuda:0')\n",
      "loss: 0.4366782307624817\n",
      "acc: tensor(0.9700, device='cuda:0')\n",
      "\n",
      "epochs 2/6 \n"
     ]
    },
    {
     "data": {
      "application/vnd.jupyter.widget-view+json": {
       "model_id": "ce25a3bbbf8a4b298b1d11ed2b158509",
       "version_major": 2,
       "version_minor": 0
      },
      "text/plain": [
       "HBox(children=(FloatProgress(value=0.0, max=541.0), HTML(value='')))"
      ]
     },
     "metadata": {},
     "output_type": "display_data"
    },
    {
     "name": "stdout",
     "output_type": "stream",
     "text": [
      "loss: 0.15134486556053162\n",
      "acc: tensor(0.9800, device='cuda:0')\n",
      "loss: 1.3170379400253296\n",
      "acc: tensor(0.9600, device='cuda:0')\n",
      "loss: 0.329508900642395\n",
      "acc: tensor(0.9800, device='cuda:0')\n",
      "loss: 0.001945977215655148\n",
      "acc: tensor(1., device='cuda:0')\n",
      "loss: 0.3548288345336914\n",
      "acc: tensor(0.9800, device='cuda:0')\n",
      "loss: 0.01740581914782524\n",
      "acc: tensor(0.9900, device='cuda:0')\n",
      "\n",
      "epochs 3/6 \n"
     ]
    },
    {
     "data": {
      "application/vnd.jupyter.widget-view+json": {
       "model_id": "7178fafc7296482db5ba2ce70f3f162f",
       "version_major": 2,
       "version_minor": 0
      },
      "text/plain": [
       "HBox(children=(FloatProgress(value=0.0, max=541.0), HTML(value='')))"
      ]
     },
     "metadata": {},
     "output_type": "display_data"
    },
    {
     "name": "stdout",
     "output_type": "stream",
     "text": [
      "loss: 0.26508572697639465\n",
      "acc: tensor(0.9700, device='cuda:0')\n",
      "loss: 0.03718005493283272\n",
      "acc: tensor(0.9900, device='cuda:0')\n",
      "loss: 0.0013951110886409879\n",
      "acc: tensor(1., device='cuda:0')\n",
      "loss: 0.0014536285307258368\n",
      "acc: tensor(1., device='cuda:0')\n",
      "loss: 0.08402369171380997\n",
      "acc: tensor(0.9800, device='cuda:0')\n",
      "loss: 0.4465251863002777\n",
      "acc: tensor(0.9700, device='cuda:0')\n",
      "\n",
      "epochs 4/6 \n"
     ]
    },
    {
     "data": {
      "application/vnd.jupyter.widget-view+json": {
       "model_id": "ae84711a028342dfa146866f82856ff1",
       "version_major": 2,
       "version_minor": 0
      },
      "text/plain": [
       "HBox(children=(FloatProgress(value=0.0, max=541.0), HTML(value='')))"
      ]
     },
     "metadata": {},
     "output_type": "display_data"
    },
    {
     "name": "stdout",
     "output_type": "stream",
     "text": [
      "loss: 0.09181439131498337\n",
      "acc: tensor(0.9800, device='cuda:0')\n",
      "loss: 0.06434240192174911\n",
      "acc: tensor(0.9900, device='cuda:0')\n",
      "loss: 0.0022960854694247246\n",
      "acc: tensor(1., device='cuda:0')\n",
      "loss: 0.023097658529877663\n",
      "acc: tensor(0.9900, device='cuda:0')\n",
      "loss: 0.3769427239894867\n",
      "acc: tensor(0.9900, device='cuda:0')\n",
      "loss: 0.0009610986453481019\n",
      "acc: tensor(1., device='cuda:0')\n",
      "\n",
      "epochs 5/6 \n"
     ]
    },
    {
     "data": {
      "application/vnd.jupyter.widget-view+json": {
       "model_id": "cfe834ff8e0543848bc25f7338107b1e",
       "version_major": 2,
       "version_minor": 0
      },
      "text/plain": [
       "HBox(children=(FloatProgress(value=0.0, max=541.0), HTML(value='')))"
      ]
     },
     "metadata": {},
     "output_type": "display_data"
    },
    {
     "name": "stdout",
     "output_type": "stream",
     "text": [
      "loss: 0.0012726497370749712\n",
      "acc: tensor(1., device='cuda:0')\n",
      "loss: 0.014887342229485512\n",
      "acc: tensor(0.9900, device='cuda:0')\n",
      "loss: 0.02062699757516384\n",
      "acc: tensor(0.9900, device='cuda:0')\n",
      "loss: 0.12098019570112228\n",
      "acc: tensor(0.9800, device='cuda:0')\n",
      "loss: 0.0011433553881943226\n",
      "acc: tensor(1., device='cuda:0')\n",
      "loss: 0.0009761953260749578\n",
      "acc: tensor(1., device='cuda:0')\n",
      "\n",
      "epochs 6/6 \n"
     ]
    },
    {
     "data": {
      "application/vnd.jupyter.widget-view+json": {
       "model_id": "7dfe58272cad4438870a3eb774215112",
       "version_major": 2,
       "version_minor": 0
      },
      "text/plain": [
       "HBox(children=(FloatProgress(value=0.0, max=541.0), HTML(value='')))"
      ]
     },
     "metadata": {},
     "output_type": "display_data"
    },
    {
     "name": "stdout",
     "output_type": "stream",
     "text": [
      "loss: 0.0007634067442268133\n",
      "acc: tensor(1., device='cuda:0')\n",
      "loss: 0.0007749176002107561\n",
      "acc: tensor(1., device='cuda:0')\n",
      "loss: 0.003998646512627602\n",
      "acc: tensor(1., device='cuda:0')\n",
      "loss: 0.0008239984745159745\n",
      "acc: tensor(1., device='cuda:0')\n",
      "loss: 0.0005977201508358121\n",
      "acc: tensor(1., device='cuda:0')\n",
      "loss: 0.25712481141090393\n",
      "acc: tensor(0.9900, device='cuda:0')\n",
      "\n"
     ]
    }
   ],
   "source": [
    "epochs = 6\n",
    "if TRAIN:\n",
    "    for epoch in range(epochs):\n",
    "        train(epoch)\n",
    "        torch.save(model.state_dict(), './saved_weights.pth')\n",
    "else:\n",
    "    model.load_state_dict(torch.load('./saved_weights.pth'))"
   ]
  },
  {
   "cell_type": "markdown",
   "metadata": {},
   "source": [
    "# 異常度の計算"
   ]
  },
  {
   "cell_type": "code",
   "execution_count": 15,
   "metadata": {},
   "outputs": [],
   "source": [
    "from scipy import spatial\n",
    "model.eval()\n",
    "def cosin_metric(x1, x2):\n",
    "    return np.dot(x1, x2) / (np.linalg.norm(x1) * np.linalg.norm(x2))"
   ]
  },
  {
   "cell_type": "code",
   "execution_count": 16,
   "metadata": {},
   "outputs": [
    {
     "name": "stdout",
     "output_type": "stream",
     "text": [
      "same number: [[0.22106244]]\n"
     ]
    }
   ],
   "source": [
    "with torch.no_grad():\n",
    "    train = trainset[0][0]\n",
    "    out1 = model(train.unsqueeze(0).to(device)).cpu().numpy()\n",
    "    test = testset_norm[0][0]\n",
    "    out2 = model(test.unsqueeze(0).to(device)).cpu().numpy()\n",
    "    \n",
    "print(\"same number:\", cosin_metric(out1, out2.T))"
   ]
  },
  {
   "cell_type": "code",
   "execution_count": 17,
   "metadata": {},
   "outputs": [],
   "source": [
    "torch.cuda.empty_cache()"
   ]
  },
  {
   "cell_type": "markdown",
   "metadata": {},
   "source": [
    "## inference and evaluate distance."
   ]
  },
  {
   "cell_type": "code",
   "execution_count": null,
   "metadata": {},
   "outputs": [
    {
     "name": "stderr",
     "output_type": "stream",
     "text": [
      "<ipython-input-18-f7ca4b39054d>:1: TqdmDeprecationWarning: This function will be removed in tqdm==5.0.0\n",
      "Please use `tqdm.notebook.tqdm` instead of `tqdm.tqdm_notebook`\n",
      "  t = tqdm(trainloader)\n"
     ]
    },
    {
     "data": {
      "application/vnd.jupyter.widget-view+json": {
       "model_id": "0d75f3ea058e45119986ad34616534b0",
       "version_major": 2,
       "version_minor": 0
      },
      "text/plain": [
       "HBox(children=(FloatProgress(value=0.0, max=541.0), HTML(value='')))"
      ]
     },
     "metadata": {},
     "output_type": "display_data"
    }
   ],
   "source": [
    "t = tqdm(trainloader)  \n",
    "for idx, (inputs,labels1) in enumerate(t):       \n",
    "    # send to gpu\n",
    "    inputs = inputs.to(device)\n",
    "    labels1 = torch.zeros(inputs.size()[0]).to(device).long() #.unsqueeze(1)\n",
    "    # run model\n",
    "    with torch.no_grad():\n",
    "        out = model(inputs.float())\n",
    "    if idx  == 0:\n",
    "        outs = out\n",
    "    else:\n",
    "        outs = torch.cat((outs, out))\n",
    "\n",
    "normals = outs.cpu().numpy()\n",
    "\n",
    "t = tqdm(testloader1)\n",
    "norm_labels = []\n",
    "for idx, (inputs,labels1) in enumerate(t):       \n",
    "    # send to gpu\n",
    "    inputs = inputs.to(device)\n",
    "    norm_labels.extend(labels1.numpy())\n",
    "    labels1 = torch.zeros(inputs.size()[0]).to(device).long() #.unsqueeze(1)\n",
    "    # run model\n",
    "    with torch.no_grad():\n",
    "        out = model(inputs.float())\n",
    "    if idx  == 0:\n",
    "        outs = out\n",
    "    else:\n",
    "        outs = torch.cat((outs, out))\n",
    "\n",
    "normals1 = outs.cpu().numpy()\n",
    "\n",
    "t = tqdm(testloader)  \n",
    "for idx, (inputs,labels1) in enumerate(t):       \n",
    "    # send to gpu\n",
    "    inputs = inputs.to(device)\n",
    "    labels1 = torch.zeros(inputs.size()[0]).to(device).long() #.unsqueeze(1)\n",
    "    # run model\n",
    "    with torch.no_grad():\n",
    "        out = model(inputs.float())\n",
    "    if idx  == 0:\n",
    "        outs = out\n",
    "    else:\n",
    "        outs = torch.cat((outs, out))\n",
    "        \n",
    "abnormals = outs.cpu().numpy()"
   ]
  },
  {
   "cell_type": "code",
   "execution_count": null,
   "metadata": {},
   "outputs": [],
   "source": [
    "# Compute ecidian distance\n",
    "with torch.no_grad():\n",
    "    test = testset[1][0]\n",
    "    out2 = model(test.unsqueeze(0).to(device)).cpu().numpy()\n",
    "\n",
    "print(\"different number:\",np.linalg.norm(normals-out2))\n",
    "\n",
    "with torch.no_grad():\n",
    "    test = testset_norm[1][0]\n",
    "    out2 = model(test.unsqueeze(0).to(device)).cpu().numpy()\n",
    "\n",
    "print(\"same number:\", np.linalg.norm(normals-out2))"
   ]
  },
  {
   "cell_type": "code",
   "execution_count": null,
   "metadata": {},
   "outputs": [],
   "source": [
    "# compute cosine distance with my function\n",
    "with torch.no_grad():\n",
    "    test = testset[2][0]\n",
    "    out2 = model(test.unsqueeze(0).to(device)).cpu().numpy()\n",
    "\n",
    "print(\"different number:\", 1-np.mean(cosin_metric(normals, out2.T)))\n",
    "\n",
    "with torch.no_grad():\n",
    "    test = testset_norm[2][0]\n",
    "    out2 = model(test.unsqueeze(0).to(device)).cpu().numpy()\n",
    "\n",
    "print(\"same number:\", 1-np.mean(cosin_metric(normals, normals.T), axis=0))"
   ]
  },
  {
   "cell_type": "code",
   "execution_count": null,
   "metadata": {},
   "outputs": [],
   "source": [
    "# compute cosine distance with scipy\n",
    "with torch.no_grad():\n",
    "    test = testset[2][0]\n",
    "    out2 = model(test.unsqueeze(0).to(device)).cpu().numpy()\n",
    "print(\"different number:\", 1 - spatial.distance.cosine(normals[0,:], out2.T))"
   ]
  },
  {
   "cell_type": "code",
   "execution_count": null,
   "metadata": {},
   "outputs": [],
   "source": [
    "# print scatter plot of same 1s\n",
    "# Euclidian\n",
    "norm = []\n",
    "for n in normals1:\n",
    "    norm.append(np.linalg.norm(normals-n))\n",
    "import matplotlib.pyplot as plt\n",
    "same = norm\n",
    "plt.plot(same)\n",
    "plt.show()"
   ]
  },
  {
   "cell_type": "code",
   "execution_count": null,
   "metadata": {
    "scrolled": true
   },
   "outputs": [],
   "source": [
    "# print scatter plot of same 1s\n",
    "# Euclidian\n",
    "norm = []\n",
    "for n in abnormals:\n",
    "    norm.append(np.linalg.norm(normals-n))\n",
    "import matplotlib.pyplot as plt\n",
    "different = norm\n",
    "plt.plot(different)\n",
    "plt.show()"
   ]
  },
  {
   "cell_type": "markdown",
   "metadata": {},
   "source": [
    "# 推論結果を3D可視化"
   ]
  },
  {
   "cell_type": "code",
   "execution_count": null,
   "metadata": {},
   "outputs": [],
   "source": [
    "# https://github.com/egcode/pytorch-losses/blob/master/mnist-visualize-arcface6_fc7-loss.ipynb\n",
    "f3d = []\n",
    "lbls = []\n",
    "for i in range(len(testset_norm)):\n",
    "    image_tensor, label_tensor = testloader1.dataset[i]\n",
    "    label_tensor = torch.tensor(testloader1.dataset[i][1])\n",
    "    image_tensor = image_tensor.reshape(1,1,28,28)\n",
    "\n",
    "    image_tensor, label_tensor = image_tensor.to(device), label_tensor.to(device)\n",
    "\n",
    "    features3d  = model(image_tensor)\n",
    "    logits = metric_fc(features3d, torch.unsqueeze(label_tensor, dim=-1))\n",
    "    _, prediction = torch.max(logits.data, 1)\n",
    "\n",
    "    f3d.append(features3d[0].cpu().detach().numpy())\n",
    "    \n",
    "    prediction = prediction.cpu().detach().numpy()[0]\n",
    "    lbls.append(prediction)\n",
    "\n",
    "feat3d = np.array(f3d)\n",
    "print(\"3d features shape\" + str(feat3d.shape))\n",
    "\n",
    "lbls = np.array(lbls)\n",
    "print(\"labels shape\" + str(lbls.shape))"
   ]
  },
  {
   "cell_type": "code",
   "execution_count": null,
   "metadata": {},
   "outputs": [],
   "source": [
    "from mpl_toolkits import mplot3d\n",
    "import matplotlib.pyplot as plt\n",
    "%matplotlib inline\n",
    "\n",
    "fig = plt.figure(figsize=(16,9))\n",
    "ax = plt.axes(projection='3d')\n",
    "\n",
    "for i in range(10):\n",
    "    # Data for three-dimensional scattered points\n",
    "    xdata = feat3d[lbls==i,2].flatten()\n",
    "    ydata = feat3d[lbls==i,0].flatten()\n",
    "    zdata = feat3d[lbls==i,1].flatten()\n",
    "    ax.scatter3D(xdata, ydata, zdata);\n",
    "ax.legend(['0', '1', '2', '3', '4', '5', '6', '7', '8', '9'],loc='center left', bbox_to_anchor=(1, 0.5))\n",
    "\n",
    "plt.show()"
   ]
  },
  {
   "cell_type": "markdown",
   "metadata": {},
   "source": [
    "# Visualize by TSNE"
   ]
  },
  {
   "cell_type": "markdown",
   "metadata": {},
   "source": [
    "## 普通の分類結果"
   ]
  },
  {
   "cell_type": "code",
   "execution_count": null,
   "metadata": {},
   "outputs": [],
   "source": [
    "from sklearn.manifold import TSNE\n",
    "# 特徴量抽出\n",
    "feats = normals1\n",
    "# ラベル情報追加\n",
    "\n",
    "# TSNEをfit\n",
    "tSNE_metrics = TSNE(n_components=2, random_state=0).fit_transform(feats)\n",
    "plt.scatter(tSNE_metrics[:, 0], tSNE_metrics[:, 1], c=norm_labels)\n",
    "plt.colorbar()\n",
    "plt.savefig('tsne_classification.png')\n",
    "plt.show()"
   ]
  },
  {
   "cell_type": "markdown",
   "metadata": {},
   "source": [
    "## 異常ラベルとの比較"
   ]
  },
  {
   "cell_type": "code",
   "execution_count": null,
   "metadata": {},
   "outputs": [],
   "source": [
    "predict_y = np.concatenate([normals1, abnormals])\n",
    "diflabel = np.ones_like(different)*9\n",
    "test_y = np.concatenate([norm_labels, diflabel])\n",
    "\n",
    "tSNE_metrics = TSNE(n_components=2, random_state=0).fit_transform(predict_y)\n",
    "plt.scatter(tSNE_metrics[:, 0], tSNE_metrics[:, 1], c=test_y)\n",
    "plt.colorbar()\n",
    "plt.savefig('tsne_abnormals.png')\n",
    "plt.show()"
   ]
  },
  {
   "cell_type": "markdown",
   "metadata": {},
   "source": [
    "## plot roc curve"
   ]
  },
  {
   "cell_type": "code",
   "execution_count": null,
   "metadata": {},
   "outputs": [],
   "source": [
    "predict_y = np.concatenate([same, different])\n",
    "samelabel = np.ones_like(same)\n",
    "diflabel = np.zeros_like(different)\n",
    "test_y = np.concatenate([samelabel, diflabel])"
   ]
  },
  {
   "cell_type": "code",
   "execution_count": null,
   "metadata": {},
   "outputs": [],
   "source": [
    "from sklearn import metrics\n",
    "import matplotlib.pyplot as plt\n",
    "import numpy as np\n",
    "\n",
    "# FPR, TPR(, しきい値) を算出\n",
    "fpr, tpr, thresholds = metrics.roc_curve(test_y, predict_y)"
   ]
  },
  {
   "cell_type": "code",
   "execution_count": null,
   "metadata": {},
   "outputs": [],
   "source": [
    "# ついでにAUCも\n",
    "auc = metrics.auc(fpr, tpr)\n",
    "\n",
    "# ROC曲線をプロット\n",
    "plt.plot(fpr, tpr, label='ROC curve (area = %.2f)'%auc)\n",
    "plt.legend()\n",
    "plt.title('ROC curve')\n",
    "plt.xlabel('False Positive Rate')\n",
    "plt.ylabel('True Positive Rate')\n",
    "plt.grid(True)"
   ]
  },
  {
   "cell_type": "code",
   "execution_count": null,
   "metadata": {},
   "outputs": [],
   "source": []
  }
 ],
 "metadata": {
  "kernelspec": {
   "display_name": "Python 3",
   "language": "python",
   "name": "python3"
  },
  "language_info": {
   "codemirror_mode": {
    "name": "ipython",
    "version": 3
   },
   "file_extension": ".py",
   "mimetype": "text/x-python",
   "name": "python",
   "nbconvert_exporter": "python",
   "pygments_lexer": "ipython3",
   "version": "3.8.2"
  }
 },
 "nbformat": 4,
 "nbformat_minor": 2
}
