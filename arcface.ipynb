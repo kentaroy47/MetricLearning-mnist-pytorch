{
 "cells": [
  {
   "cell_type": "code",
   "execution_count": 1,
   "metadata": {},
   "outputs": [],
   "source": [
    "import torch\n",
    "import torchvision\n",
    "import torchvision.transforms as transforms\n",
    "import numpy as np\n",
    "import torch.nn as nn\n",
    "from tqdm import tqdm_notebook as tqdm\n",
    "\n",
    "TRAIN = True\n",
    "\n",
    "transform = transforms.Compose(\n",
    "    [transforms.ToTensor(),\n",
    "     transforms.Normalize((0.5, ), (0.5, ))])\n",
    "\n",
    "trainset = torchvision.datasets.MNIST(root='./data', \n",
    "                                        train=True,\n",
    "                                        download=True,\n",
    "                                        transform=transform)\n",
    "trainloader = torch.utils.data.DataLoader(trainset,\n",
    "                                            batch_size=100,\n",
    "                                            shuffle=True,\n",
    "                                            num_workers=2)\n",
    "\n",
    "testset = torchvision.datasets.MNIST(root='./data', \n",
    "                                        train=False, \n",
    "                                        download=True, \n",
    "                                        transform=transform)\n",
    "testloader = torch.utils.data.DataLoader(testset, \n",
    "                                            batch_size=100,\n",
    "                                            shuffle=False, \n",
    "                                            num_workers=2)\n",
    "\n",
    "classes = tuple(np.linspace(0, 9, 10, dtype=np.uint8))"
   ]
  },
  {
   "cell_type": "code",
   "execution_count": 2,
   "metadata": {},
   "outputs": [],
   "source": [
    "raw_y = np.array([int(y) for y in trainset.targets])\n",
    "raw_x = np.array([y for y in trainset.data.numpy()])"
   ]
  },
  {
   "cell_type": "code",
   "execution_count": 3,
   "metadata": {},
   "outputs": [
    {
     "name": "stderr",
     "output_type": "stream",
     "text": [
      "/home/ubuntu/anaconda3/envs/pytorch_p36/lib/python3.6/site-packages/torchvision/datasets/mnist.py:43: UserWarning: train_labels has been renamed targets\n",
      "  warnings.warn(\"train_labels has been renamed targets\")\n"
     ]
    }
   ],
   "source": [
    "idx = trainset.train_labels==1\n",
    "trainset.targets = trainset.targets[idx]\n",
    "trainset.data = trainset.data[idx]"
   ]
  },
  {
   "cell_type": "code",
   "execution_count": 4,
   "metadata": {},
   "outputs": [
    {
     "name": "stderr",
     "output_type": "stream",
     "text": [
      "/home/ubuntu/anaconda3/envs/pytorch_p36/lib/python3.6/site-packages/torchvision/datasets/mnist.py:43: UserWarning: train_labels has been renamed targets\n",
      "  warnings.warn(\"train_labels has been renamed targets\")\n"
     ]
    }
   ],
   "source": [
    "idx = testset.train_labels==6\n",
    "testset.targets = testset.targets[idx]\n",
    "testset.data = testset.data[idx]"
   ]
  },
  {
   "cell_type": "markdown",
   "metadata": {},
   "source": [
    "set dataloader"
   ]
  },
  {
   "cell_type": "code",
   "execution_count": 5,
   "metadata": {},
   "outputs": [],
   "source": [
    "trainloader = torch.utils.data.DataLoader(trainset,\n",
    "                                            batch_size=100,\n",
    "                                            shuffle=True,\n",
    "                                            num_workers=2)\n",
    "testloader = torch.utils.data.DataLoader(testset, \n",
    "                                            batch_size=100,\n",
    "                                            shuffle=False, \n",
    "                                            num_workers=2)"
   ]
  },
  {
   "cell_type": "code",
   "execution_count": 6,
   "metadata": {},
   "outputs": [
    {
     "name": "stderr",
     "output_type": "stream",
     "text": [
      "/home/ubuntu/anaconda3/envs/pytorch_p36/lib/python3.6/site-packages/torchvision/datasets/mnist.py:43: UserWarning: train_labels has been renamed targets\n",
      "  warnings.warn(\"train_labels has been renamed targets\")\n"
     ]
    }
   ],
   "source": [
    "testset = torchvision.datasets.MNIST(root='./data', \n",
    "                                        train=False, \n",
    "                                        download=True, \n",
    "                                        transform=transform)\n",
    "idx = testset.train_labels==1\n",
    "testset.targets = testset.targets[idx]\n",
    "testset.data = testset.data[idx]\n",
    "testloader1 = torch.utils.data.DataLoader(testset, \n",
    "                                            batch_size=100,\n",
    "                                            shuffle=False, \n",
    "                                            num_workers=2)\n"
   ]
  },
  {
   "cell_type": "markdown",
   "metadata": {},
   "source": [
    "## define model"
   ]
  },
  {
   "cell_type": "code",
   "execution_count": 7,
   "metadata": {},
   "outputs": [],
   "source": [
    "import pretrainedmodels\n",
    "model_name = \"resnet18\"\n",
    "basemodel = pretrainedmodels.__dict__[model_name](num_classes=1000, pretrained='imagenet')\n",
    "basemodel = nn.Sequential(*list(basemodel.children())[1:-2])"
   ]
  },
  {
   "cell_type": "code",
   "execution_count": 8,
   "metadata": {},
   "outputs": [],
   "source": [
    "from metrics import ArcMarginProduct\n",
    "class mymodel(nn.Module):\n",
    "    def __init__(self):\n",
    "        super(mymodel, self).__init__()\n",
    "        self.features = basemodel\n",
    "        self.conv1 = nn.Conv2d(1, 64, kernel_size=3, padding=1, bias=False)\n",
    "        if model_name == \"resnet34\" or model_name == \"resnet18\":\n",
    "            num_ch = 512\n",
    "        else:\n",
    "            num_ch = 2048\n",
    "        # vowel_diacritic       \n",
    "        self.fc1 = nn.Conv2d(num_ch, 1, 1)\n",
    "        self.avgpool = nn.AdaptiveAvgPool2d(1)\n",
    "        \n",
    "    def forward(self, x):\n",
    "        # extract features\n",
    "        x = self.conv1(x)\n",
    "        x = self.features(x)\n",
    "        x = self.avgpool(x).squeeze(2).squeeze(2)\n",
    "\n",
    "        #x1 = self.arcface(x).squeeze(2).squeeze(2)\n",
    "        \n",
    "        return x"
   ]
  },
  {
   "cell_type": "code",
   "execution_count": 9,
   "metadata": {},
   "outputs": [],
   "source": [
    "device = torch.device(\"cuda\" if torch.cuda.is_available() else \"cpu\")\n",
    "#device=\"cpu\"\n",
    "#model2 = mymodel()\n",
    "#input = torch.rand(10,1,28,28)\n",
    "#model2(input).size()"
   ]
  },
  {
   "cell_type": "code",
   "execution_count": 10,
   "metadata": {},
   "outputs": [],
   "source": [
    "model = mymodel()\n",
    "model = model.to(device)"
   ]
  },
  {
   "cell_type": "markdown",
   "metadata": {},
   "source": [
    "# define arcface"
   ]
  },
  {
   "cell_type": "code",
   "execution_count": 11,
   "metadata": {},
   "outputs": [],
   "source": [
    "metric_fc = ArcMarginProduct(512, 2, s=100, m=0.5, easy_margin=False).to(device)"
   ]
  },
  {
   "cell_type": "code",
   "execution_count": 12,
   "metadata": {},
   "outputs": [],
   "source": [
    "optimizer = torch.optim.Adam([{'params': model.parameters()}, {'params': metric_fc.parameters()}],\n",
    "                                     lr=1e-3, weight_decay=1e-4)"
   ]
  },
  {
   "cell_type": "code",
   "execution_count": 13,
   "metadata": {},
   "outputs": [],
   "source": [
    "criterion = torch.nn.CrossEntropyLoss()"
   ]
  },
  {
   "cell_type": "markdown",
   "metadata": {},
   "source": [
    "## train script"
   ]
  },
  {
   "cell_type": "code",
   "execution_count": 14,
   "metadata": {},
   "outputs": [],
   "source": [
    "def train(epoch):\n",
    "    model.train()\n",
    "    print('epochs {}/{} '.format(epoch+1,epochs))\n",
    "    running_loss = 0.0\n",
    "    running_acc = 0.0\n",
    "    acc1 = 0.0\n",
    "    acc2 = 0.0\n",
    "    acc3 = 0.0\n",
    "    t = tqdm(trainloader)\n",
    "    \n",
    "    for idx, (inputs,labels1) in enumerate(t):       \n",
    "        # send to gpu\n",
    "        inputs = inputs.to(device)\n",
    "        labels1 = torch.zeros(inputs.size()[0]).to(device).long() #.unsqueeze(1)\n",
    "        \n",
    "        # set opt\n",
    "        optimizer.zero_grad()\n",
    "        \n",
    "        # run model\n",
    "        feat = model(inputs.float())\n",
    "        outputs = metric_fc(feat, labels1)\n",
    "        #print(feat.size())\n",
    "        #print(labels1.size())\n",
    "        #print(outputs.size())\n",
    "        loss = criterion(outputs,labels1)\n",
    "        #running_loss += loss\n",
    "        \n",
    "        loss.backward()\n",
    "        optimizer.step()\n",
    "        \n",
    "        if idx%8==7:\n",
    "            print(loss.item())\n",
    "        "
   ]
  },
  {
   "cell_type": "code",
   "execution_count": 15,
   "metadata": {},
   "outputs": [],
   "source": [
    "def eval(epoch):\n",
    "    model.eval()\n",
    "    print('epochs {}/{} '.format(epoch+1,epochs))\n",
    "    running_loss = 0.0\n",
    "    running_acc = 0.0\n",
    "    acc1 = 0.0\n",
    "    acc2 = 0.0\n",
    "    acc3 = 0.0\n",
    "    t = tqdm(testloader)\n",
    "    \n",
    "    for idx, (inputs,labels1) in enumerate(t):       \n",
    "        # send to gpu\n",
    "        inputs = inputs.to(device)\n",
    "        labels1 = torch.zeros(inputs.size()[0]).to(device).long()+1 #.unsqueeze(1)\n",
    "        \n",
    "        # set opt\n",
    "        optimizer.zero_grad()\n",
    "        \n",
    "        # run model\n",
    "        feat = model(inputs.float())\n",
    "        outputs = metric_fc(feat, labels1)\n",
    "        print(outputs)\n",
    "        #print(feat.size())\n",
    "        #print(labels1.size())\n",
    "        #print(outputs.size())\n",
    "        loss = criterion(outputs,labels1)\n",
    "        #running_loss += loss\n",
    "        \n",
    "        #loss.backward()\n",
    "        #optimizer.step()\n",
    "        \n",
    "        if idx%8==7:\n",
    "            print(loss.item())\n",
    "        "
   ]
  },
  {
   "cell_type": "code",
   "execution_count": 16,
   "metadata": {},
   "outputs": [],
   "source": [
    "def eval2(epoch):\n",
    "    model.eval()\n",
    "    print('epochs {}/{} '.format(epoch+1,epochs))\n",
    "    running_loss = 0.0\n",
    "    running_acc = 0.0\n",
    "    acc1 = 0.0\n",
    "    acc2 = 0.0\n",
    "    acc3 = 0.0\n",
    "    t = tqdm(trainloader)\n",
    "    \n",
    "    for idx, (inputs,labels1) in enumerate(t):       \n",
    "        # send to gpu\n",
    "        inputs = inputs.to(device)\n",
    "        labels1 = torch.zeros(inputs.size()[0]).to(device).long() #.unsqueeze(1)\n",
    "        \n",
    "        # set opt\n",
    "        optimizer.zero_grad()\n",
    "        \n",
    "        # run model\n",
    "        feat = model(inputs.float())\n",
    "        outputs = metric_fc(feat, labels1)\n",
    "        print(outputs)\n",
    "        #print(feat.size())\n",
    "        #print(labels1.size())\n",
    "        #print(outputs.size())\n",
    "        loss = criterion(outputs,labels1)\n",
    "        #running_loss += loss\n",
    "        \n",
    "        #loss.backward()\n",
    "        #optimizer.step()\n",
    "        \n",
    "        if idx%8==7:\n",
    "            print(loss.item())\n",
    "        "
   ]
  },
  {
   "cell_type": "code",
   "execution_count": 17,
   "metadata": {
    "scrolled": false
   },
   "outputs": [
    {
     "name": "stdout",
     "output_type": "stream",
     "text": [
      "epochs 1/6 \n"
     ]
    },
    {
     "name": "stderr",
     "output_type": "stream",
     "text": [
      "/home/ubuntu/anaconda3/envs/pytorch_p36/lib/python3.6/site-packages/ipykernel_launcher.py:9: TqdmDeprecationWarning: This function will be removed in tqdm==5.0.0\n",
      "Please use `tqdm.notebook.tqdm` instead of `tqdm.tqdm_notebook`\n",
      "  if __name__ == '__main__':\n"
     ]
    },
    {
     "data": {
      "application/vnd.jupyter.widget-view+json": {
       "model_id": "96dacd0798ed48d4a0d3cd98ec4813f6",
       "version_major": 2,
       "version_minor": 0
      },
      "text/plain": [
       "HBox(children=(FloatProgress(value=0.0, max=68.0), HTML(value='')))"
      ]
     },
     "metadata": {},
     "output_type": "display_data"
    },
    {
     "name": "stdout",
     "output_type": "stream",
     "text": [
      "4.225304126739502\n",
      "1.3856861591339111\n",
      "1.0059006214141846\n",
      "0.38199278712272644\n",
      "0.24241229891777039\n",
      "0.1833779662847519\n",
      "0.141797736287117\n",
      "0.15031546354293823\n",
      "\n",
      "epochs 2/6 \n"
     ]
    },
    {
     "data": {
      "application/vnd.jupyter.widget-view+json": {
       "model_id": "263760d65f344aa284fa8458577be8b1",
       "version_major": 2,
       "version_minor": 0
      },
      "text/plain": [
       "HBox(children=(FloatProgress(value=0.0, max=68.0), HTML(value='')))"
      ]
     },
     "metadata": {},
     "output_type": "display_data"
    },
    {
     "name": "stdout",
     "output_type": "stream",
     "text": [
      "0.0008207893115468323\n",
      "9.574890100338962e-06\n",
      "5.035400590713834e-06\n",
      "1.9664765204652213e-05\n",
      "3.108978262389428e-06\n",
      "2.7637481252895668e-05\n",
      "6.0310365370241925e-05\n",
      "1.699447602732107e-05\n",
      "\n",
      "epochs 3/6 \n"
     ]
    },
    {
     "data": {
      "application/vnd.jupyter.widget-view+json": {
       "model_id": "4edc14df3dc64486ac577a431d52ed3c",
       "version_major": 2,
       "version_minor": 0
      },
      "text/plain": [
       "HBox(children=(FloatProgress(value=0.0, max=68.0), HTML(value='')))"
      ]
     },
     "metadata": {},
     "output_type": "display_data"
    },
    {
     "name": "stdout",
     "output_type": "stream",
     "text": [
      "6.484985419774603e-07\n",
      "5.390167279983871e-05\n",
      "3.458022911217995e-05\n",
      "2.3555756342830136e-05\n",
      "8.201599257517955e-07\n",
      "7.24792471373803e-07\n",
      "4.000663830083795e-05\n",
      "1.945495569088962e-06\n",
      "\n",
      "epochs 4/6 \n"
     ]
    },
    {
     "data": {
      "application/vnd.jupyter.widget-view+json": {
       "model_id": "05755ca4a0c842cebd7b649611198b8b",
       "version_major": 2,
       "version_minor": 0
      },
      "text/plain": [
       "HBox(children=(FloatProgress(value=0.0, max=68.0), HTML(value='')))"
      ]
     },
     "metadata": {},
     "output_type": "display_data"
    },
    {
     "name": "stdout",
     "output_type": "stream",
     "text": [
      "9.91821252682712e-06\n",
      "5.044937279308215e-05\n",
      "4.17613991885446e-05\n",
      "6.9046018325025216e-06\n",
      "8.039474778342992e-06\n",
      "4.5471191697288305e-05\n",
      "2.1572113837464713e-05\n",
      "4.514694228419103e-05\n",
      "\n",
      "epochs 5/6 \n"
     ]
    },
    {
     "data": {
      "application/vnd.jupyter.widget-view+json": {
       "model_id": "caa2f33ac6094c0eb527e0f1224892a7",
       "version_major": 2,
       "version_minor": 0
      },
      "text/plain": [
       "HBox(children=(FloatProgress(value=0.0, max=68.0), HTML(value='')))"
      ]
     },
     "metadata": {},
     "output_type": "display_data"
    },
    {
     "name": "stdout",
     "output_type": "stream",
     "text": [
      "6.967544322833419e-05\n",
      "2.766609213722404e-05\n",
      "6.513595872092992e-05\n",
      "8.831024388200603e-06\n",
      "7.476806786144152e-06\n",
      "5.168914867681451e-05\n",
      "3.973960701841861e-05\n",
      "1.0242461939924397e-05\n",
      "\n",
      "epochs 6/6 \n"
     ]
    },
    {
     "data": {
      "application/vnd.jupyter.widget-view+json": {
       "model_id": "1004335652cf4272ae5d00956f747379",
       "version_major": 2,
       "version_minor": 0
      },
      "text/plain": [
       "HBox(children=(FloatProgress(value=0.0, max=68.0), HTML(value='')))"
      ]
     },
     "metadata": {},
     "output_type": "display_data"
    },
    {
     "name": "stdout",
     "output_type": "stream",
     "text": [
      "3.585815420592553e-06\n",
      "1.6841888282215223e-05\n",
      "3.856658804579638e-05\n",
      "7.820129326319147e-07\n",
      "2.7551650418899953e-05\n",
      "1.201629629576928e-06\n",
      "2.346038854739163e-06\n",
      "5.302429144649068e-06\n",
      "\n"
     ]
    }
   ],
   "source": [
    "epochs = 6\n",
    "if TRAIN:\n",
    "    for epoch in range(epochs):\n",
    "        train(epoch)\n",
    "        torch.save(model.state_dict(), './saved_weights.pth')\n",
    "else:\n",
    "    model.load_state_dict(torch.load('./saved_weights.pth'))"
   ]
  },
  {
   "cell_type": "code",
   "execution_count": 18,
   "metadata": {},
   "outputs": [],
   "source": [
    "def cosin_metric(x1, x2):\n",
    "    return np.dot(x1, x2)# / (np.linalg.norm(x1) * np.linalg.norm(x2))"
   ]
  },
  {
   "cell_type": "code",
   "execution_count": 19,
   "metadata": {},
   "outputs": [
    {
     "name": "stdout",
     "output_type": "stream",
     "text": [
      "different number: [[19.898117]]\n"
     ]
    }
   ],
   "source": [
    "model.eval()\n",
    "with torch.no_grad():\n",
    "    train = trainset[0][0]\n",
    "    out1 = model(train.unsqueeze(0).to(device)).cpu().numpy()\n",
    "    test = testset[0][0]\n",
    "    out2 = model(test.unsqueeze(0).to(device)).cpu().numpy()\n",
    "\n",
    "print(\"different number:\", cosin_metric(out1, out2.T))\n"
   ]
  },
  {
   "cell_type": "code",
   "execution_count": 20,
   "metadata": {},
   "outputs": [
    {
     "name": "stdout",
     "output_type": "stream",
     "text": [
      "same number: [[20.225838]]\n"
     ]
    }
   ],
   "source": [
    "with torch.no_grad():\n",
    "    train = trainset[0][0]\n",
    "    out1 = model(train.unsqueeze(0).to(device)).cpu().numpy()\n",
    "    test = trainset[2][0]\n",
    "    out2 = model(test.unsqueeze(0).to(device)).cpu().numpy()\n",
    "    \n",
    "print(\"same number:\", cosin_metric(out1, out2.T))"
   ]
  },
  {
   "cell_type": "code",
   "execution_count": 21,
   "metadata": {},
   "outputs": [],
   "source": [
    "torch.cuda.empty_cache()"
   ]
  },
  {
   "cell_type": "markdown",
   "metadata": {},
   "source": [
    "## inference and evaluate distance."
   ]
  },
  {
   "cell_type": "code",
   "execution_count": 22,
   "metadata": {},
   "outputs": [
    {
     "name": "stderr",
     "output_type": "stream",
     "text": [
      "/home/ubuntu/anaconda3/envs/pytorch_p36/lib/python3.6/site-packages/ipykernel_launcher.py:1: TqdmDeprecationWarning: This function will be removed in tqdm==5.0.0\n",
      "Please use `tqdm.notebook.tqdm` instead of `tqdm.tqdm_notebook`\n",
      "  \"\"\"Entry point for launching an IPython kernel.\n"
     ]
    },
    {
     "data": {
      "application/vnd.jupyter.widget-view+json": {
       "model_id": "1c4bcb2cee454c3ebbb62d29fe9a02bd",
       "version_major": 2,
       "version_minor": 0
      },
      "text/plain": [
       "HBox(children=(FloatProgress(value=0.0, max=68.0), HTML(value='')))"
      ]
     },
     "metadata": {},
     "output_type": "display_data"
    },
    {
     "name": "stdout",
     "output_type": "stream",
     "text": [
      "\n"
     ]
    },
    {
     "name": "stderr",
     "output_type": "stream",
     "text": [
      "/home/ubuntu/anaconda3/envs/pytorch_p36/lib/python3.6/site-packages/ipykernel_launcher.py:16: TqdmDeprecationWarning: This function will be removed in tqdm==5.0.0\n",
      "Please use `tqdm.notebook.tqdm` instead of `tqdm.tqdm_notebook`\n",
      "  app.launch_new_instance()\n"
     ]
    },
    {
     "data": {
      "application/vnd.jupyter.widget-view+json": {
       "model_id": "f5b5b6cb136c40b2a80ffe6a30860223",
       "version_major": 2,
       "version_minor": 0
      },
      "text/plain": [
       "HBox(children=(FloatProgress(value=0.0, max=12.0), HTML(value='')))"
      ]
     },
     "metadata": {},
     "output_type": "display_data"
    },
    {
     "name": "stdout",
     "output_type": "stream",
     "text": [
      "\n"
     ]
    },
    {
     "name": "stderr",
     "output_type": "stream",
     "text": [
      "/home/ubuntu/anaconda3/envs/pytorch_p36/lib/python3.6/site-packages/ipykernel_launcher.py:31: TqdmDeprecationWarning: This function will be removed in tqdm==5.0.0\n",
      "Please use `tqdm.notebook.tqdm` instead of `tqdm.tqdm_notebook`\n"
     ]
    },
    {
     "data": {
      "application/vnd.jupyter.widget-view+json": {
       "model_id": "3ffc4b5af9854d619939b2e59b496856",
       "version_major": 2,
       "version_minor": 0
      },
      "text/plain": [
       "HBox(children=(FloatProgress(value=0.0, max=10.0), HTML(value='')))"
      ]
     },
     "metadata": {},
     "output_type": "display_data"
    },
    {
     "name": "stdout",
     "output_type": "stream",
     "text": [
      "\n"
     ]
    }
   ],
   "source": [
    "t = tqdm(trainloader)  \n",
    "for idx, (inputs,labels1) in enumerate(t):       \n",
    "    # send to gpu\n",
    "    inputs = inputs.to(device)\n",
    "    labels1 = torch.zeros(inputs.size()[0]).to(device).long() #.unsqueeze(1)\n",
    "    # run model\n",
    "    with torch.no_grad():\n",
    "        out = model(inputs.float())\n",
    "    if idx  == 0:\n",
    "        outs = out\n",
    "    else:\n",
    "        outs = torch.cat((outs, out))\n",
    "\n",
    "normals = outs.cpu().numpy()\n",
    "\n",
    "t = tqdm(testloader1)  \n",
    "for idx, (inputs,labels1) in enumerate(t):       \n",
    "    # send to gpu\n",
    "    inputs = inputs.to(device)\n",
    "    labels1 = torch.zeros(inputs.size()[0]).to(device).long() #.unsqueeze(1)\n",
    "    # run model\n",
    "    with torch.no_grad():\n",
    "        out = model(inputs.float())\n",
    "    if idx  == 0:\n",
    "        outs = out\n",
    "    else:\n",
    "        outs = torch.cat((outs, out))\n",
    "\n",
    "normals1 = outs.cpu().numpy()\n",
    "\n",
    "t = tqdm(testloader)  \n",
    "for idx, (inputs,labels1) in enumerate(t):       \n",
    "    # send to gpu\n",
    "    inputs = inputs.to(device)\n",
    "    labels1 = torch.zeros(inputs.size()[0]).to(device).long() #.unsqueeze(1)\n",
    "    # run model\n",
    "    with torch.no_grad():\n",
    "        out = model(inputs.float())\n",
    "    if idx  == 0:\n",
    "        outs = out\n",
    "    else:\n",
    "        outs = torch.cat((outs, out))\n",
    "        \n",
    "abnormals = outs.cpu().numpy()"
   ]
  },
  {
   "cell_type": "code",
   "execution_count": 23,
   "metadata": {},
   "outputs": [
    {
     "name": "stdout",
     "output_type": "stream",
     "text": [
      "(6742, 512)\n",
      "(958, 512)\n"
     ]
    }
   ],
   "source": [
    "print(normals.shape)\n",
    "print(abnormals.shape)"
   ]
  },
  {
   "cell_type": "code",
   "execution_count": 24,
   "metadata": {},
   "outputs": [
    {
     "data": {
      "text/plain": [
       "(1135,)"
      ]
     },
     "execution_count": 24,
     "metadata": {},
     "output_type": "execute_result"
    }
   ],
   "source": [
    "same = np.clip(np.mean(cosin_metric(normals, normals1.T), axis=0), 0, 100)\n",
    "same.shape"
   ]
  },
  {
   "cell_type": "code",
   "execution_count": 25,
   "metadata": {},
   "outputs": [
    {
     "data": {
      "text/plain": [
       "(958,)"
      ]
     },
     "execution_count": 25,
     "metadata": {},
     "output_type": "execute_result"
    }
   ],
   "source": [
    "different = np.clip(np.mean(cosin_metric(normals, abnormals.T), axis=0), 0, 100)\n",
    "different.shape"
   ]
  },
  {
   "cell_type": "code",
   "execution_count": 33,
   "metadata": {},
   "outputs": [
    {
     "data": {
      "image/png": "[encoded data removed]",
      "text/plain": [
       "<Figure size 432x288 with 1 Axes>"
      ]
     },
     "metadata": {},
     "output_type": "display_data"
    }
   ],
   "source": [
    "# print scatter plot of same 1s\n",
    "import matplotlib.pyplot as plt\n",
    "plt.plot(same)\n",
    "plt.show()"
   ]
  },
  {
   "cell_type": "code",
   "execution_count": 27,
   "metadata": {},
   "outputs": [
    {
     "data": {
      "text/plain": [
       "[<matplotlib.lines.Line2D at 0x7fe7cce74278>]"
      ]
     },
     "execution_count": 27,
     "metadata": {},
     "output_type": "execute_result"
    },
    {
     "data": {
      "image/png": "[encoded data removed]",
      "text/plain": [
       "<Figure size 432x288 with 1 Axes>"
      ]
     },
     "metadata": {},
     "output_type": "display_data"
    }
   ],
   "source": [
    "plt.plot(different)"
   ]
  },
  {
   "cell_type": "code",
   "execution_count": 28,
   "metadata": {},
   "outputs": [
    {
     "data": {
      "text/plain": [
       "937"
      ]
     },
     "execution_count": 28,
     "metadata": {},
     "output_type": "execute_result"
    }
   ],
   "source": [
    "np.sum(different>=25)"
   ]
  },
  {
   "cell_type": "code",
   "execution_count": 29,
   "metadata": {},
   "outputs": [
    {
     "data": {
      "text/plain": [
       "134"
      ]
     },
     "execution_count": 29,
     "metadata": {},
     "output_type": "execute_result"
    }
   ],
   "source": [
    "np.sum(same>=25)"
   ]
  },
  {
   "cell_type": "markdown",
   "metadata": {},
   "source": [
    "## plot roc curve"
   ]
  },
  {
   "cell_type": "code",
   "execution_count": 30,
   "metadata": {},
   "outputs": [],
   "source": [
    "predict_y = np.concatenate([same, different])\n",
    "samelabel = np.zeros_like(same)\n",
    "diflabel = np.ones_like(different)\n",
    "test_y = np.concatenate([samelabel, diflabel])"
   ]
  },
  {
   "cell_type": "code",
   "execution_count": 31,
   "metadata": {},
   "outputs": [],
   "source": [
    "from sklearn import metrics\n",
    "import matplotlib.pyplot as plt\n",
    "import numpy as np\n",
    "\n",
    "# FPR, TPR(, しきい値) を算出\n",
    "fpr, tpr, thresholds = metrics.roc_curve(test_y, predict_y)"
   ]
  },
  {
   "cell_type": "code",
   "execution_count": 32,
   "metadata": {},
   "outputs": [
    {
     "data": {
      "image/png": "[encoded data removed]",
      "text/plain": [
       "<Figure size 432x288 with 1 Axes>"
      ]
     },
     "metadata": {},
     "output_type": "display_data"
    }
   ],
   "source": [
    "# ついでにAUCも\n",
    "auc = metrics.auc(fpr, tpr)\n",
    "\n",
    "# ROC曲線をプロット\n",
    "plt.plot(fpr, tpr, label='ROC curve (area = %.2f)'%auc)\n",
    "plt.legend()\n",
    "plt.title('ROC curve')\n",
    "plt.xlabel('False Positive Rate')\n",
    "plt.ylabel('True Positive Rate')\n",
    "plt.grid(True)"
   ]
  },
  {
   "cell_type": "code",
   "execution_count": null,
   "metadata": {},
   "outputs": [],
   "source": []
  }
 ],
 "metadata": {
  "kernelspec": {
   "display_name": "Python 3",
   "language": "python",
   "name": "python3"
  },
  "language_info": {
   "codemirror_mode": {
    "name": "ipython",
    "version": 3
   },
   "file_extension": ".py",
   "mimetype": "text/x-python",
   "name": "python",
   "nbconvert_exporter": "python",
   "pygments_lexer": "ipython3",
   "version": "3.6.5"
  }
 },
 "nbformat": 4,
 "nbformat_minor": 2
}
