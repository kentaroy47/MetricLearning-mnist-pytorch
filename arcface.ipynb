{
 "cells": [
  {
   "cell_type": "markdown",
   "metadata": {},
   "source": [
    "# Arcface metric learning."
   ]
  },
  {
   "cell_type": "code",
   "execution_count": 1,
   "metadata": {},
   "outputs": [],
   "source": [
    "# Target anomaly label\n",
    "target = 9\n",
    "import torch\n",
    "import torch.nn.functional as F\n",
    "import torchvision\n",
    "import torchvision.transforms as transforms\n",
    "import numpy as np\n",
    "import torch.nn as nn\n",
    "from tqdm import tqdm_notebook as tqdm\n",
    "import torch.optim.lr_scheduler as lr_scheduler"
   ]
  },
  {
   "cell_type": "code",
   "execution_count": 2,
   "metadata": {},
   "outputs": [],
   "source": [
    "TRAIN = True\n",
    "\n",
    "transform = transforms.Compose(\n",
    "    [transforms.ToTensor(),\n",
    "     transforms.Normalize((0.13, ), (0.3, ))])\n",
    "\n",
    "trainset = torchvision.datasets.MNIST(root='./data', \n",
    "                                        train=True,\n",
    "                                        download=True,\n",
    "                                        transform=transform)\n",
    "\n",
    "testset = torchvision.datasets.MNIST(root='./data', \n",
    "                                        train=False, \n",
    "                                        download=True, \n",
    "                                        transform=transform)\n",
    "\n",
    "classes = tuple(np.linspace(0, 9, 10, dtype=np.uint8))"
   ]
  },
  {
   "cell_type": "code",
   "execution_count": 3,
   "metadata": {},
   "outputs": [],
   "source": [
    "raw_y = np.array([int(y) for y in trainset.targets])\n",
    "raw_x = np.array([y for y in trainset.data.numpy()])"
   ]
  },
  {
   "cell_type": "code",
   "execution_count": 4,
   "metadata": {},
   "outputs": [
    {
     "name": "stderr",
     "output_type": "stream",
     "text": [
      "C:\\Users\\kyosh\\miniconda3\\envs\\pytorch\\lib\\site-packages\\torchvision\\datasets\\mnist.py:54: UserWarning: train_labels has been renamed targets\n",
      "  warnings.warn(\"train_labels has been renamed targets\")\n"
     ]
    }
   ],
   "source": [
    "idx = trainset.train_labels!=target\n",
    "trainset.targets = trainset.targets[idx]\n",
    "trainset.data = trainset.data[idx]"
   ]
  },
  {
   "cell_type": "code",
   "execution_count": 5,
   "metadata": {},
   "outputs": [],
   "source": [
    "idx = testset.train_labels==target\n",
    "testset.targets = testset.targets[idx]\n",
    "testset.data = testset.data[idx]"
   ]
  },
  {
   "cell_type": "markdown",
   "metadata": {},
   "source": [
    "set dataloader"
   ]
  },
  {
   "cell_type": "code",
   "execution_count": 6,
   "metadata": {},
   "outputs": [],
   "source": [
    "trainloader = torch.utils.data.DataLoader(trainset,\n",
    "                                            batch_size=100,\n",
    "                                            shuffle=True,\n",
    "                                            num_workers=0)\n",
    "testloader = torch.utils.data.DataLoader(testset, \n",
    "                                            batch_size=100,\n",
    "                                            shuffle=False, \n",
    "                                            num_workers=0)"
   ]
  },
  {
   "cell_type": "code",
   "execution_count": 7,
   "metadata": {},
   "outputs": [],
   "source": [
    "# 正常データをサンプル\n",
    "testset_norm = torchvision.datasets.MNIST(root='./data', \n",
    "                                        train=False, \n",
    "                                        download=True, \n",
    "                                        transform=transform)\n",
    "idx = testset_norm.train_labels!=target\n",
    "testset_norm.targets = testset_norm.targets[idx]\n",
    "testset_norm.data = testset_norm.data[idx]\n",
    "testloader1 = torch.utils.data.DataLoader(testset_norm, \n",
    "                                            batch_size=100,\n",
    "                                            shuffle=False, \n",
    "                                            num_workers=0)\n"
   ]
  },
  {
   "cell_type": "markdown",
   "metadata": {},
   "source": [
    "## define model"
   ]
  },
  {
   "cell_type": "code",
   "execution_count": 10,
   "metadata": {},
   "outputs": [
    {
     "name": "stderr",
     "output_type": "stream",
     "text": [
      "Downloading: \"https://download.pytorch.org/models/resnet18-5c106cde.pth\" to C:\\Users\\kyosh/.cache\\torch\\hub\\checkpoints\\resnet18-5c106cde.pth\n"
     ]
    },
    {
     "data": {
      "application/vnd.jupyter.widget-view+json": {
       "model_id": "d98b58dbfe2c403d84a0138ae7ea5da5",
       "version_major": 2,
       "version_minor": 0
      },
      "text/plain": [
       "  0%|          | 0.00/44.7M [00:00<?, ?B/s]"
      ]
     },
     "metadata": {},
     "output_type": "display_data"
    }
   ],
   "source": [
    "# pip install pretrainedmodels\n",
    "import pretrainedmodels\n",
    "model_name = \"resnet18\"\n",
    "basemodel = pretrainedmodels.__dict__[model_name](num_classes=1000, pretrained='imagenet')\n",
    "basemodel = nn.Sequential(*list(basemodel.children())[1:-2])"
   ]
  },
  {
   "cell_type": "code",
   "execution_count": 90,
   "metadata": {},
   "outputs": [],
   "source": [
    "# tricks from kaggle\n",
    "# https://www.kaggle.com/tanulsingh077/pytorch-metric-learning-pipeline-only-images\n",
    "# https://www.kaggle.com/slawekbiel/arcface-explained -- Beautiful kernel explaining ArcFace\n",
    "\n",
    "import torch\n",
    "import torch.nn as nn\n",
    "import torch.nn.functional as F\n",
    "from torch.nn import Parameter\n",
    "import math\n",
    "\n",
    "class ArcMarginProduct(nn.Module):\n",
    "    r\"\"\"Implement of large margin arc distance: :\n",
    "        Args:\n",
    "            in_features: size of each input sample\n",
    "            out_features: size of each output sample\n",
    "            s: norm of input feature\n",
    "            m: margin\n",
    "            cos(theta + m)\n",
    "        \"\"\"\n",
    "    def __init__(self, in_features, out_features, s=30.0, m=0.50, easy_margin=False, ls_eps=0.0):\n",
    "        super(ArcMarginProduct, self).__init__()\n",
    "        self.in_features = in_features\n",
    "        self.out_features = out_features\n",
    "        self.s = s\n",
    "        self.m = m\n",
    "        self.ls_eps = ls_eps  # label smoothing\n",
    "        self.weight = Parameter(torch.FloatTensor(out_features, in_features))\n",
    "        nn.init.xavier_uniform_(self.weight)\n",
    "\n",
    "        self.easy_margin = easy_margin\n",
    "        self.cos_m = math.cos(m)\n",
    "        self.sin_m = math.sin(m)\n",
    "        self.th = math.cos(math.pi - m)\n",
    "        self.mm = math.sin(math.pi - m) * m\n",
    "\n",
    "    def forward(self, input, label):\n",
    "        # --------------------------- cos(theta) & phi(theta) ---------------------------\n",
    "        cosine = F.linear(F.normalize(input), F.normalize(self.weight))\n",
    "        sine = torch.sqrt(1.0 - torch.pow(cosine, 2))\n",
    "        phi = cosine * self.cos_m - sine * self.sin_m\n",
    "        if self.easy_margin:\n",
    "            phi = torch.where(cosine > 0, phi, cosine)\n",
    "        else:\n",
    "            phi = torch.where(cosine > self.th, phi, cosine - self.mm)\n",
    "        # --------------------------- convert label to one-hot ---------------------------\n",
    "        # one_hot = torch.zeros(cosine.size(), requires_grad=True, device='cuda')\n",
    "        one_hot = torch.zeros(cosine.size(), device='cuda')\n",
    "        one_hot.scatter_(1, label.view(-1, 1).long(), 1)\n",
    "        if self.ls_eps > 0:\n",
    "            one_hot = (1 - self.ls_eps) * one_hot + self.ls_eps / self.out_features\n",
    "        # -------------torch.where(out_i = {x_i if condition_i else y_i) -------------\n",
    "        output = (one_hot * phi) + ((1.0 - one_hot) * cosine)\n",
    "        output *= self.s\n",
    "\n",
    "        return output"
   ]
  },
  {
   "cell_type": "code",
   "execution_count": 91,
   "metadata": {},
   "outputs": [],
   "source": [
    "class mymodel(nn.Module):\n",
    "    def __init__(self):\n",
    "        super(mymodel, self).__init__()\n",
    "        self.features = basemodel\n",
    "        self.conv1 = nn.Conv2d(1, 64, kernel_size=3, padding=1, bias=False)\n",
    "        if model_name == \"resnet34\" or model_name == \"resnet18\":\n",
    "            num_ch = 512\n",
    "        else:\n",
    "            num_ch = 2048\n",
    "        self.avgpool = nn.AdaptiveAvgPool2d(1)\n",
    "        # 3 channel output for visualization\n",
    "        self.final = ArcMarginProduct(num_ch, 9,\n",
    "                                          s=35, m=0.5, easy_margin=False)\n",
    "        \n",
    "    def forward(self, x, label):\n",
    "        # extract features\n",
    "        x = self.conv1(x)\n",
    "        x = self.features(x)\n",
    "        x = self.avgpool(x).squeeze(2).squeeze(2)\n",
    "        out = self.final(x, label) # pass to arcface layer\n",
    "        \n",
    "        return out\n",
    "    \n",
    "    def extract(self, x):\n",
    "        # extract features\n",
    "        x = self.conv1(x)\n",
    "        x = self.features(x)\n",
    "        x = self.avgpool(x).squeeze(2).squeeze(2)\n",
    "        return x"
   ]
  },
  {
   "cell_type": "code",
   "execution_count": 92,
   "metadata": {},
   "outputs": [],
   "source": [
    "# define model\n",
    "device = torch.device(\"cuda\" if torch.cuda.is_available() else \"cpu\")\n",
    "model = mymodel()\n",
    "model = model.to(device)"
   ]
  },
  {
   "cell_type": "code",
   "execution_count": 93,
   "metadata": {},
   "outputs": [
    {
     "data": {
      "text/plain": [
       "tensor([[  1.0670, -14.7954,  -2.6090,  -0.8609,   0.8688,   1.4414,  -1.0486,\n",
       "           0.4771,   2.2419]], device='cuda:0', grad_fn=<MulBackward0>)"
      ]
     },
     "execution_count": 93,
     "metadata": {},
     "output_type": "execute_result"
    }
   ],
   "source": [
    "# test forward\n",
    "model.forward(torch.rand([1,1,32,32],).cuda(), torch.tensor([1]).cuda())"
   ]
  },
  {
   "cell_type": "markdown",
   "metadata": {},
   "source": [
    "# define arcface"
   ]
  },
  {
   "cell_type": "code",
   "execution_count": 94,
   "metadata": {},
   "outputs": [],
   "source": [
    "# crit\n",
    "criterion = torch.nn.CrossEntropyLoss()\n",
    "\n",
    "# optimzer nn\n",
    "optimizer_nn = torch.optim.SGD(model.parameters(), lr=0.001, momentum=0.9, weight_decay=0.0005)"
   ]
  },
  {
   "cell_type": "markdown",
   "metadata": {},
   "source": [
    "## train script"
   ]
  },
  {
   "cell_type": "code",
   "execution_count": 95,
   "metadata": {},
   "outputs": [],
   "source": [
    "def train(epoch):\n",
    "    model.train()\n",
    "    print('epochs {}/{} '.format(epoch+1,epochs))\n",
    "    running_loss = 0.0\n",
    "    running_acc = 0.0\n",
    "    acc1 = 0.0\n",
    "    acc2 = 0.0\n",
    "    acc3 = 0.0\n",
    "    t = tqdm(trainloader)\n",
    "    \n",
    "    for idx, (inputs,labels1) in enumerate(t):       \n",
    "        # send to gpu\n",
    "        inputs = inputs.to(device)\n",
    "        labels1 = labels1.to(device)\n",
    "        \n",
    "        # set opt\n",
    "        optimizer_nn.zero_grad()\n",
    "        \n",
    "        # run model\n",
    "        outputs = model(inputs.float(), labels1)\n",
    "\n",
    "        loss = criterion(outputs, labels1)\n",
    "        loss.backward()\n",
    "        \n",
    "        optimizer_nn.step()\n",
    "        \n",
    "        # Compute accuracy\n",
    "        _, predicted = torch.max(outputs.data, 1)\n",
    "        accuracy = (labels1.data == predicted).float().mean()\n",
    "        \n",
    "        if idx%100==0:\n",
    "            print(\"loss:\",loss.item())\n",
    "            print(\"acc:\", accuracy)\n",
    "        "
   ]
  },
  {
   "cell_type": "code",
   "execution_count": 96,
   "metadata": {
    "scrolled": false
   },
   "outputs": [
    {
     "name": "stdout",
     "output_type": "stream",
     "text": [
      "epochs 1/3 \n"
     ]
    },
    {
     "name": "stderr",
     "output_type": "stream",
     "text": [
      "C:\\Users\\kyosh\\miniconda3\\envs\\pytorch\\lib\\site-packages\\ipykernel_launcher.py:9: TqdmDeprecationWarning: This function will be removed in tqdm==5.0.0\n",
      "Please use `tqdm.notebook.tqdm` instead of `tqdm.tqdm_notebook`\n",
      "  if __name__ == '__main__':\n"
     ]
    },
    {
     "data": {
      "application/vnd.jupyter.widget-view+json": {
       "model_id": "9692d21ff14f43fba935590ce178cb14",
       "version_major": 2,
       "version_minor": 0
      },
      "text/plain": [
       "  0%|          | 0/541 [00:00<?, ?it/s]"
      ]
     },
     "metadata": {},
     "output_type": "display_data"
    },
    {
     "name": "stdout",
     "output_type": "stream",
     "text": [
      "loss: 19.669275283813477\n",
      "acc: tensor(0., device='cuda:0')\n",
      "loss: 0.41272032260894775\n",
      "acc: tensor(0.9500, device='cuda:0')\n",
      "loss: 0.06240810453891754\n",
      "acc: tensor(0.9900, device='cuda:0')\n",
      "loss: 0.561215341091156\n",
      "acc: tensor(0.9700, device='cuda:0')\n",
      "loss: 0.0029340938199311495\n",
      "acc: tensor(1., device='cuda:0')\n",
      "loss: 0.013818695209920406\n",
      "acc: tensor(1., device='cuda:0')\n",
      "epochs 2/3 \n"
     ]
    },
    {
     "data": {
      "application/vnd.jupyter.widget-view+json": {
       "model_id": "769935bc15c74d13a8b20bd6f3c1a717",
       "version_major": 2,
       "version_minor": 0
      },
      "text/plain": [
       "  0%|          | 0/541 [00:00<?, ?it/s]"
      ]
     },
     "metadata": {},
     "output_type": "display_data"
    },
    {
     "name": "stdout",
     "output_type": "stream",
     "text": [
      "loss: 0.0024203194770962\n",
      "acc: tensor(1., device='cuda:0')\n",
      "loss: 0.0016447328962385654\n",
      "acc: tensor(1., device='cuda:0')\n",
      "loss: 0.001489203074015677\n",
      "acc: tensor(1., device='cuda:0')\n",
      "loss: 0.0019049153197556734\n",
      "acc: tensor(1., device='cuda:0')\n",
      "loss: 0.0016667357413098216\n",
      "acc: tensor(1., device='cuda:0')\n",
      "loss: 0.004393452778458595\n",
      "acc: tensor(1., device='cuda:0')\n",
      "epochs 3/3 \n"
     ]
    },
    {
     "data": {
      "application/vnd.jupyter.widget-view+json": {
       "model_id": "f587eb995b314d349e1b87e09192e3bf",
       "version_major": 2,
       "version_minor": 0
      },
      "text/plain": [
       "  0%|          | 0/541 [00:00<?, ?it/s]"
      ]
     },
     "metadata": {},
     "output_type": "display_data"
    },
    {
     "name": "stdout",
     "output_type": "stream",
     "text": [
      "loss: 0.0013250508345663548\n",
      "acc: tensor(1., device='cuda:0')\n",
      "loss: 0.24397392570972443\n",
      "acc: tensor(0.9900, device='cuda:0')\n",
      "loss: 0.0010622605914250016\n",
      "acc: tensor(1., device='cuda:0')\n",
      "loss: 0.0009237535996362567\n",
      "acc: tensor(1., device='cuda:0')\n",
      "loss: 0.0011531260097399354\n",
      "acc: tensor(1., device='cuda:0')\n",
      "loss: 0.0008271292317658663\n",
      "acc: tensor(1., device='cuda:0')\n"
     ]
    }
   ],
   "source": [
    "epochs = 3\n",
    "if TRAIN:\n",
    "    for epoch in range(epochs):\n",
    "        train(epoch)\n",
    "        torch.save(model.state_dict(), './saved_weights.pth')\n",
    "else:\n",
    "    model.load_state_dict(torch.load('./saved_weights.pth'))"
   ]
  },
  {
   "cell_type": "markdown",
   "metadata": {},
   "source": [
    "# Anomaly detection"
   ]
  },
  {
   "cell_type": "code",
   "execution_count": 97,
   "metadata": {},
   "outputs": [],
   "source": [
    "from scipy import spatial\n",
    "model.eval()\n",
    "def cosin_metric(x1, x2):\n",
    "    return np.dot(x1, x2) / (np.linalg.norm(x1) * np.linalg.norm(x2))"
   ]
  },
  {
   "cell_type": "code",
   "execution_count": 98,
   "metadata": {},
   "outputs": [
    {
     "name": "stdout",
     "output_type": "stream",
     "text": [
      "same number: [[0.22485602]]\n"
     ]
    }
   ],
   "source": [
    "with torch.no_grad():\n",
    "    train = trainset[0][0]\n",
    "    out1 = model.extract(train.unsqueeze(0).to(device)).cpu().numpy()\n",
    "    test = testset_norm[0][0]\n",
    "    out2 = model.extract(test.unsqueeze(0).to(device)).cpu().numpy()\n",
    "    \n",
    "print(\"same number:\", cosin_metric(out1, out2.T))"
   ]
  },
  {
   "cell_type": "code",
   "execution_count": 99,
   "metadata": {},
   "outputs": [
    {
     "name": "stdout",
     "output_type": "stream",
     "text": [
      "abnormal number: [[0.10142373]]\n"
     ]
    }
   ],
   "source": [
    "with torch.no_grad():\n",
    "    train = trainset[0][0]\n",
    "    out1 = model.extract(train.unsqueeze(0).to(device)).cpu().numpy()\n",
    "    test = testset[0][0]\n",
    "    out2 = model.extract(test.unsqueeze(0).to(device)).cpu().numpy()\n",
    "    \n",
    "print(\"abnormal number:\", cosin_metric(out1, out2.T))"
   ]
  },
  {
   "cell_type": "code",
   "execution_count": 100,
   "metadata": {},
   "outputs": [],
   "source": [
    "torch.cuda.empty_cache()"
   ]
  },
  {
   "cell_type": "markdown",
   "metadata": {},
   "source": [
    "## inference and evaluate distance."
   ]
  },
  {
   "cell_type": "code",
   "execution_count": 101,
   "metadata": {},
   "outputs": [
    {
     "name": "stderr",
     "output_type": "stream",
     "text": [
      "C:\\Users\\kyosh\\miniconda3\\envs\\pytorch\\lib\\site-packages\\ipykernel_launcher.py:1: TqdmDeprecationWarning: This function will be removed in tqdm==5.0.0\n",
      "Please use `tqdm.notebook.tqdm` instead of `tqdm.tqdm_notebook`\n",
      "  \"\"\"Entry point for launching an IPython kernel.\n"
     ]
    },
    {
     "data": {
      "application/vnd.jupyter.widget-view+json": {
       "model_id": "d1aacb0e273745dea0cb1ad257b2b8eb",
       "version_major": 2,
       "version_minor": 0
      },
      "text/plain": [
       "  0%|          | 0/541 [00:00<?, ?it/s]"
      ]
     },
     "metadata": {},
     "output_type": "display_data"
    },
    {
     "name": "stderr",
     "output_type": "stream",
     "text": [
      "C:\\Users\\kyosh\\miniconda3\\envs\\pytorch\\lib\\site-packages\\ipykernel_launcher.py:16: TqdmDeprecationWarning: This function will be removed in tqdm==5.0.0\n",
      "Please use `tqdm.notebook.tqdm` instead of `tqdm.tqdm_notebook`\n",
      "  app.launch_new_instance()\n"
     ]
    },
    {
     "data": {
      "application/vnd.jupyter.widget-view+json": {
       "model_id": "64adfc07d8674c7b9f826524033072d8",
       "version_major": 2,
       "version_minor": 0
      },
      "text/plain": [
       "  0%|          | 0/90 [00:00<?, ?it/s]"
      ]
     },
     "metadata": {},
     "output_type": "display_data"
    },
    {
     "name": "stderr",
     "output_type": "stream",
     "text": [
      "C:\\Users\\kyosh\\miniconda3\\envs\\pytorch\\lib\\site-packages\\ipykernel_launcher.py:33: TqdmDeprecationWarning: This function will be removed in tqdm==5.0.0\n",
      "Please use `tqdm.notebook.tqdm` instead of `tqdm.tqdm_notebook`\n"
     ]
    },
    {
     "data": {
      "application/vnd.jupyter.widget-view+json": {
       "model_id": "41ffe30092de4ff1a255c8d27b7d7d28",
       "version_major": 2,
       "version_minor": 0
      },
      "text/plain": [
       "  0%|          | 0/11 [00:00<?, ?it/s]"
      ]
     },
     "metadata": {},
     "output_type": "display_data"
    }
   ],
   "source": [
    "t = tqdm(trainloader)  \n",
    "for idx, (inputs,labels1) in enumerate(t):       \n",
    "    # send to gpu\n",
    "    inputs = inputs.to(device)\n",
    "    labels1 = torch.zeros(inputs.size()[0]).to(device).long() #.unsqueeze(1)\n",
    "    # run model\n",
    "    with torch.no_grad():\n",
    "        out = model.extract(inputs.float())\n",
    "    if idx  == 0:\n",
    "        outs = out\n",
    "    else:\n",
    "        outs = torch.cat((outs, out))\n",
    "\n",
    "normals = outs.cpu().numpy()\n",
    "\n",
    "t = tqdm(testloader1)\n",
    "norm_labels = []\n",
    "for idx, (inputs,labels1) in enumerate(t):       \n",
    "    # send to gpu\n",
    "    inputs = inputs.to(device)\n",
    "    norm_labels.extend(labels1.numpy())\n",
    "    labels1 = torch.zeros(inputs.size()[0]).to(device).long() #.unsqueeze(1)\n",
    "    # run model\n",
    "    with torch.no_grad():\n",
    "        out = model.extract(inputs.float())\n",
    "    if idx  == 0:\n",
    "        outs = out\n",
    "    else:\n",
    "        outs = torch.cat((outs, out))\n",
    "\n",
    "normals1 = outs.cpu().numpy()\n",
    "\n",
    "t = tqdm(testloader)  \n",
    "for idx, (inputs,labels1) in enumerate(t):       \n",
    "    # send to gpu\n",
    "    inputs = inputs.to(device)\n",
    "    labels1 = torch.zeros(inputs.size()[0]).to(device).long() #.unsqueeze(1)\n",
    "    # run model\n",
    "    with torch.no_grad():\n",
    "        out = model.extract(inputs.float())\n",
    "    if idx  == 0:\n",
    "        outs = out\n",
    "    else:\n",
    "        outs = torch.cat((outs, out))\n",
    "        \n",
    "abnormals = outs.cpu().numpy()"
   ]
  },
  {
   "cell_type": "markdown",
   "metadata": {},
   "source": [
    "# Calculate cosin distance"
   ]
  },
  {
   "cell_type": "code",
   "execution_count": 102,
   "metadata": {},
   "outputs": [
    {
     "name": "stdout",
     "output_type": "stream",
     "text": [
      "different number: 0.7652784\n",
      "same number: 0.68906516\n"
     ]
    }
   ],
   "source": [
    "from sklearn.preprocessing import normalize\n",
    "# compute cosine distance with my function\n",
    "with torch.no_grad():\n",
    "    test = testset[2][0]\n",
    "    out2 = model.extract(test.unsqueeze(0).to(device)).cpu().numpy()\n",
    "\n",
    "# normalize features and convert to torch\n",
    "out2_torch = torch.from_numpy(normalize(out2)).cuda()\n",
    "normals_torch = torch.from_numpy(normalize(normals)).cuda()\n",
    "\n",
    "# compute cosine distance\n",
    "distances = 1 - torch.matmul(out2_torch, normals_torch.T).cpu().numpy().T\n",
    "print(\"different number:\", np.mean(distances))\n",
    "\n",
    "## test with same numbers\n",
    "with torch.no_grad():\n",
    "    test = testset_norm[2][0]\n",
    "    out2 = model.extract(test.unsqueeze(0).to(device)).cpu().numpy()\n",
    "\n",
    "# normalize features and convert to torch\n",
    "out2_torch = torch.from_numpy(normalize(out2)).cuda()\n",
    "normals_torch = torch.from_numpy(normalize(normals)).cuda()\n",
    "\n",
    "# compute cosine distance\n",
    "distances = 1 - torch.matmul(out2_torch, normals_torch.T).cpu().numpy().T\n",
    "print(\"same number:\", np.mean(distances))"
   ]
  },
  {
   "cell_type": "markdown",
   "metadata": {},
   "source": [
    "## Test anomaly detection"
   ]
  },
  {
   "cell_type": "code",
   "execution_count": 103,
   "metadata": {},
   "outputs": [
    {
     "name": "stdout",
     "output_type": "stream",
     "text": [
      "normal numbers: 0.7222915\n"
     ]
    }
   ],
   "source": [
    "# normalize features and convert to torch\n",
    "out2_torch = torch.from_numpy(normalize(normals1)).cuda()\n",
    "normals_torch = torch.from_numpy(normalize(normals)).cuda()\n",
    "\n",
    "# compute cosine distance\n",
    "distances = 1 - torch.matmul(out2_torch, normals_torch.T).cpu().numpy().T\n",
    "print(\"normal numbers:\", np.mean(distances))"
   ]
  },
  {
   "cell_type": "code",
   "execution_count": 104,
   "metadata": {},
   "outputs": [
    {
     "data": {
      "text/plain": [
       "array([0.6960141 , 0.7638719 , 0.6890651 , ..., 0.71422666, 0.7258415 ,\n",
       "       0.7198604 ], dtype=float32)"
      ]
     },
     "execution_count": 104,
     "metadata": {},
     "output_type": "execute_result"
    }
   ],
   "source": [
    "np.mean(distances, axis=0)"
   ]
  },
  {
   "cell_type": "code",
   "execution_count": 105,
   "metadata": {},
   "outputs": [
    {
     "name": "stdout",
     "output_type": "stream",
     "text": [
      "abnormal numbers: 0.766923\n"
     ]
    }
   ],
   "source": [
    "# normalize features and convert to torch\n",
    "out2_torch = torch.from_numpy(normalize(abnormals)).cuda()\n",
    "normals_torch = torch.from_numpy(normalize(normals)).cuda()\n",
    "\n",
    "# compute cosine distance\n",
    "distances = 1 - torch.matmul(normals_torch, out2_torch.T).cpu().numpy().T\n",
    "print(\"abnormal numbers:\", np.mean(distances))"
   ]
  },
  {
   "cell_type": "code",
   "execution_count": 106,
   "metadata": {},
   "outputs": [
    {
     "data": {
      "text/plain": [
       "array([0.8503306 , 0.86097825, 0.5911175 , ..., 0.42061535, 0.83533645,\n",
       "       0.42637256], dtype=float32)"
      ]
     },
     "execution_count": 106,
     "metadata": {},
     "output_type": "execute_result"
    }
   ],
   "source": [
    "np.mean(distances, axis=0)"
   ]
  },
  {
   "cell_type": "markdown",
   "metadata": {},
   "source": [
    "# 推論結果を3D可視化"
   ]
  },
  {
   "cell_type": "code",
   "execution_count": null,
   "metadata": {},
   "outputs": [],
   "source": [
    "# https://github.com/egcode/pytorch-losses/blob/master/mnist-visualize-arcface6_fc7-loss.ipynb\n",
    "f3d = []\n",
    "lbls = []\n",
    "for i in range(len(testset_norm)):\n",
    "    image_tensor, label_tensor = testloader1.dataset[i]\n",
    "    label_tensor = torch.tensor(testloader1.dataset[i][1])\n",
    "    image_tensor = image_tensor.reshape(1,1,28,28)\n",
    "\n",
    "    image_tensor, label_tensor = image_tensor.to(device), label_tensor.to(device)\n",
    "\n",
    "    features3d  = model(image_tensor)\n",
    "    logits = metric_fc(features3d, torch.unsqueeze(label_tensor, dim=-1))\n",
    "    _, prediction = torch.max(logits.data, 1)\n",
    "\n",
    "    f3d.append(features3d[0].cpu().detach().numpy())\n",
    "    \n",
    "    prediction = prediction.cpu().detach().numpy()[0]\n",
    "    lbls.append(prediction)\n",
    "\n",
    "feat3d = np.array(f3d)\n",
    "print(\"3d features shape\" + str(feat3d.shape))\n",
    "\n",
    "lbls = np.array(lbls)\n",
    "print(\"labels shape\" + str(lbls.shape))"
   ]
  },
  {
   "cell_type": "code",
   "execution_count": null,
   "metadata": {},
   "outputs": [],
   "source": [
    "from mpl_toolkits import mplot3d\n",
    "import matplotlib.pyplot as plt\n",
    "%matplotlib inline\n",
    "\n",
    "fig = plt.figure(figsize=(16,9))\n",
    "ax = plt.axes(projection='3d')\n",
    "\n",
    "for i in range(10):\n",
    "    # Data for three-dimensional scattered points\n",
    "    xdata = feat3d[lbls==i,2].flatten()\n",
    "    ydata = feat3d[lbls==i,0].flatten()\n",
    "    zdata = feat3d[lbls==i,1].flatten()\n",
    "    ax.scatter3D(xdata, ydata, zdata);\n",
    "ax.legend(['0', '1', '2', '3', '4', '5', '6', '7', '8', '9'],loc='center left', bbox_to_anchor=(1, 0.5))\n",
    "\n",
    "plt.show()"
   ]
  },
  {
   "cell_type": "markdown",
   "metadata": {},
   "source": [
    "# Visualize by TSNE"
   ]
  },
  {
   "cell_type": "markdown",
   "metadata": {},
   "source": [
    "## 普通の分類結果"
   ]
  },
  {
   "cell_type": "code",
   "execution_count": null,
   "metadata": {},
   "outputs": [],
   "source": [
    "from sklearn.manifold import TSNE\n",
    "# 特徴量抽出\n",
    "feats = normals1\n",
    "# ラベル情報追加\n",
    "\n",
    "# TSNEをfit\n",
    "tSNE_metrics = TSNE(n_components=2, random_state=0).fit_transform(feats)\n",
    "plt.scatter(tSNE_metrics[:, 0], tSNE_metrics[:, 1], c=norm_labels)\n",
    "plt.colorbar()\n",
    "plt.savefig('tsne_classification.png')\n",
    "plt.show()"
   ]
  },
  {
   "cell_type": "markdown",
   "metadata": {},
   "source": [
    "## 異常ラベルとの比較"
   ]
  },
  {
   "cell_type": "code",
   "execution_count": null,
   "metadata": {},
   "outputs": [],
   "source": [
    "predict_y = np.concatenate([normals1, abnormals])\n",
    "diflabel = np.ones_like(different)*9\n",
    "test_y = np.concatenate([norm_labels, diflabel])\n",
    "\n",
    "tSNE_metrics = TSNE(n_components=2, random_state=0).fit_transform(predict_y)\n",
    "plt.scatter(tSNE_metrics[:, 0], tSNE_metrics[:, 1], c=test_y)\n",
    "plt.colorbar()\n",
    "plt.savefig('tsne_abnormals.png')\n",
    "plt.show()"
   ]
  },
  {
   "cell_type": "markdown",
   "metadata": {},
   "source": [
    "## plot roc curve"
   ]
  },
  {
   "cell_type": "code",
   "execution_count": null,
   "metadata": {},
   "outputs": [],
   "source": [
    "predict_y = np.concatenate([same, different])\n",
    "samelabel = np.ones_like(same)\n",
    "diflabel = np.zeros_like(different)\n",
    "test_y = np.concatenate([samelabel, diflabel])"
   ]
  },
  {
   "cell_type": "code",
   "execution_count": null,
   "metadata": {},
   "outputs": [],
   "source": [
    "from sklearn import metrics\n",
    "import matplotlib.pyplot as plt\n",
    "import numpy as np\n",
    "\n",
    "# FPR, TPR(, しきい値) を算出\n",
    "fpr, tpr, thresholds = metrics.roc_curve(test_y, predict_y)"
   ]
  },
  {
   "cell_type": "code",
   "execution_count": null,
   "metadata": {},
   "outputs": [],
   "source": [
    "# ついでにAUCも\n",
    "auc = metrics.auc(fpr, tpr)\n",
    "\n",
    "# ROC曲線をプロット\n",
    "plt.plot(fpr, tpr, label='ROC curve (area = %.2f)'%auc)\n",
    "plt.legend()\n",
    "plt.title('ROC curve')\n",
    "plt.xlabel('False Positive Rate')\n",
    "plt.ylabel('True Positive Rate')\n",
    "plt.grid(True)"
   ]
  },
  {
   "cell_type": "code",
   "execution_count": null,
   "metadata": {},
   "outputs": [],
   "source": []
  }
 ],
 "metadata": {
  "kernelspec": {
   "display_name": "Python 3",
   "language": "python",
   "name": "python3"
  },
  "language_info": {
   "codemirror_mode": {
    "name": "ipython",
    "version": 3
   },
   "file_extension": ".py",
   "mimetype": "text/x-python",
   "name": "python",
   "nbconvert_exporter": "python",
   "pygments_lexer": "ipython3",
   "version": "3.7.10"
  }
 },
 "nbformat": 4,
 "nbformat_minor": 2
}
