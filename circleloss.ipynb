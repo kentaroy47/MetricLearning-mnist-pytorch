{
 "cells": [
  {
   "cell_type": "code",
   "execution_count": 1,
   "metadata": {},
   "outputs": [],
   "source": [
    "# 異常として分類するラベル\n",
    "target = 9"
   ]
  },
  {
   "cell_type": "code",
   "execution_count": 2,
   "metadata": {},
   "outputs": [],
   "source": [
    "import torch\n",
    "import torch.nn.functional as F\n",
    "import torchvision\n",
    "import torchvision.transforms as transforms\n",
    "import numpy as np\n",
    "import torch.nn as nn\n",
    "from tqdm import tqdm_notebook as tqdm\n",
    "\n",
    "TRAIN = True\n",
    "\n",
    "transform = transforms.Compose(\n",
    "    [transforms.ToTensor(),\n",
    "     transforms.Normalize((0.13, ), (0.3, ))])\n",
    "\n",
    "trainset = torchvision.datasets.MNIST(root='./data', \n",
    "                                        train=True,\n",
    "                                        download=True,\n",
    "                                        transform=transform)\n",
    "\n",
    "testset = torchvision.datasets.MNIST(root='./data', \n",
    "                                        train=False, \n",
    "                                        download=True, \n",
    "                                        transform=transform)\n",
    "\n",
    "classes = tuple(np.linspace(0, 9, 10, dtype=np.uint8))"
   ]
  },
  {
   "cell_type": "code",
   "execution_count": 3,
   "metadata": {},
   "outputs": [],
   "source": [
    "raw_y = np.array([int(y) for y in trainset.targets])\n",
    "raw_x = np.array([y for y in trainset.data.numpy()])"
   ]
  },
  {
   "cell_type": "code",
   "execution_count": 4,
   "metadata": {},
   "outputs": [
    {
     "name": "stderr",
     "output_type": "stream",
     "text": [
      "/home/ken/anaconda3/envs/pytorch/lib/python3.8/site-packages/torchvision/datasets/mnist.py:45: UserWarning: train_labels has been renamed targets\n",
      "  warnings.warn(\"train_labels has been renamed targets\")\n"
     ]
    }
   ],
   "source": [
    "idx = trainset.train_labels!=target\n",
    "trainset.targets = trainset.targets[idx]\n",
    "trainset.data = trainset.data[idx]"
   ]
  },
  {
   "cell_type": "code",
   "execution_count": 5,
   "metadata": {},
   "outputs": [],
   "source": [
    "idx = testset.train_labels==target\n",
    "testset.targets = testset.targets[idx]\n",
    "testset.data = testset.data[idx]"
   ]
  },
  {
   "cell_type": "markdown",
   "metadata": {},
   "source": [
    "set dataloader"
   ]
  },
  {
   "cell_type": "code",
   "execution_count": 6,
   "metadata": {},
   "outputs": [],
   "source": [
    "trainloader = torch.utils.data.DataLoader(trainset,\n",
    "                                            batch_size=100,\n",
    "                                            shuffle=True,\n",
    "                                            num_workers=0)\n",
    "testloader = torch.utils.data.DataLoader(testset, \n",
    "                                            batch_size=100,\n",
    "                                            shuffle=False, \n",
    "                                            num_workers=0)"
   ]
  },
  {
   "cell_type": "code",
   "execution_count": 7,
   "metadata": {},
   "outputs": [],
   "source": [
    "# 正常データをサンプル\n",
    "testset_norm = torchvision.datasets.MNIST(root='./data', \n",
    "                                        train=False, \n",
    "                                        download=True, \n",
    "                                        transform=transform)\n",
    "idx = testset_norm.train_labels!=target\n",
    "testset_norm.targets = testset_norm.targets[idx]\n",
    "testset_norm.data = testset_norm.data[idx]\n",
    "testloader1 = torch.utils.data.DataLoader(testset_norm, \n",
    "                                            batch_size=100,\n",
    "                                            shuffle=False, \n",
    "                                            num_workers=0)\n"
   ]
  },
  {
   "cell_type": "markdown",
   "metadata": {},
   "source": [
    "## define model"
   ]
  },
  {
   "cell_type": "code",
   "execution_count": 8,
   "metadata": {},
   "outputs": [],
   "source": [
    "import pretrainedmodels\n",
    "model_name = \"resnet18\"\n",
    "basemodel = pretrainedmodels.__dict__[model_name](num_classes=1000, pretrained='imagenet')\n",
    "basemodel = nn.Sequential(*list(basemodel.children())[1:-2])"
   ]
  },
  {
   "cell_type": "code",
   "execution_count": 9,
   "metadata": {},
   "outputs": [],
   "source": [
    "from metrics import convert_label_to_similarity, CircleLoss\n",
    "class mymodel(nn.Module):\n",
    "    def __init__(self):\n",
    "        super(mymodel, self).__init__()\n",
    "        self.features = basemodel\n",
    "        self.conv1 = nn.Conv2d(1, 64, kernel_size=3, padding=1, bias=False)\n",
    "        if model_name == \"resnet34\" or model_name == \"resnet18\":\n",
    "            num_ch = 512\n",
    "        else:\n",
    "            num_ch = 2048\n",
    "        self.avgpool = nn.AdaptiveAvgPool2d(1)\n",
    "        # 全結合層で圧縮\n",
    "        self.fc1 = nn.Linear(num_ch, 3)\n",
    "        #self.fc2 = nn.Linear(64, 3)\n",
    "        self.prelu_weight = nn.Parameter(torch.Tensor(1).fill_(0.25))\n",
    "        \n",
    "    def forward(self, x):\n",
    "        # extract features\n",
    "        x = self.conv1(x)\n",
    "        x = self.features(x)\n",
    "        x = self.avgpool(x).squeeze(2).squeeze(2)\n",
    "        x = self.fc1(x)\n",
    "        \n",
    "        return F.normalize(x)"
   ]
  },
  {
   "cell_type": "code",
   "execution_count": 10,
   "metadata": {},
   "outputs": [],
   "source": [
    "device = torch.device(\"cuda\" if torch.cuda.is_available() else \"cpu\")\n",
    "model = mymodel()\n",
    "model = model.to(device)"
   ]
  },
  {
   "cell_type": "markdown",
   "metadata": {},
   "source": [
    "# define arcface"
   ]
  },
  {
   "cell_type": "code",
   "execution_count": 11,
   "metadata": {},
   "outputs": [],
   "source": [
    "from metrics import AddMarginProduct\n",
    "metric_fc = AddMarginProduct(3, 9, s=3).to(device)\n",
    "criterion = CircleLoss(m=0.25, gamma=80)\n",
    "\n",
    "# optimzer nn\n",
    "optimizer_nn = torch.optim.Adam(model.parameters(), lr=1e-4)\n",
    "\n",
    "# optimzer cosface or arcface\n",
    "optimzer_arcface = torch.optim.SGD(metric_fc.parameters(), lr=0.001)"
   ]
  },
  {
   "cell_type": "markdown",
   "metadata": {},
   "source": [
    "## train script"
   ]
  },
  {
   "cell_type": "code",
   "execution_count": 12,
   "metadata": {},
   "outputs": [],
   "source": [
    "def train(epoch):\n",
    "    model.train()\n",
    "    print('epochs {}/{} '.format(epoch+1,epochs))\n",
    "    running_loss = 0.0\n",
    "    running_acc = 0.0\n",
    "    acc1 = 0.0\n",
    "    acc2 = 0.0\n",
    "    acc3 = 0.0\n",
    "    t = tqdm(trainloader)\n",
    "    \n",
    "    for idx, (inputs,labels1) in enumerate(t):       \n",
    "        # send to gpu\n",
    "        inputs = inputs.to(device)\n",
    "        labels1 = labels1.to(device)\n",
    "        \n",
    "        # set opt\n",
    "        optimizer_nn.zero_grad()\n",
    "        optimzer_arcface.zero_grad()\n",
    "        \n",
    "        # run model\n",
    "        feat = model(inputs.float())\n",
    "        #outputs = metric_fc(feat, labels1)\n",
    "\n",
    "        loss = criterion(*convert_label_to_similarity(feat, labels1))\n",
    "        loss.backward()\n",
    "        \n",
    "        optimizer_nn.step()\n",
    "        optimzer_arcface.step()\n",
    "        \n",
    "        # Compute accuracy\n",
    "        #_, predicted = torch.max(outputs.data, 1)\n",
    "        #accuracy = (labels1.data == predicted).float().mean()\n",
    "        \n",
    "        if idx%100==0:\n",
    "            print(\"loss:\",loss.item())\n",
    "            #print(\"acc:\", accuracy)\n",
    "        "
   ]
  },
  {
   "cell_type": "code",
   "execution_count": 13,
   "metadata": {
    "scrolled": false
   },
   "outputs": [
    {
     "name": "stdout",
     "output_type": "stream",
     "text": [
      "epochs 1/10 \n"
     ]
    },
    {
     "name": "stderr",
     "output_type": "stream",
     "text": [
      "<ipython-input-12-dd5ea1c0f4e0>:9: TqdmDeprecationWarning: This function will be removed in tqdm==5.0.0\n",
      "Please use `tqdm.notebook.tqdm` instead of `tqdm.tqdm_notebook`\n",
      "  t = tqdm(trainloader)\n"
     ]
    },
    {
     "data": {
      "application/vnd.jupyter.widget-view+json": {
       "model_id": "8eb2acacba3e45ecbb5e88f643a090b7",
       "version_major": 2,
       "version_minor": 0
      },
      "text/plain": [
       "HBox(children=(FloatProgress(value=0.0, max=541.0), HTML(value='')))"
      ]
     },
     "metadata": {},
     "output_type": "display_data"
    },
    {
     "name": "stdout",
     "output_type": "stream",
     "text": [
      "loss: 391.17437744140625\n",
      "loss: 369.06317138671875\n",
      "loss: 82.13558197021484\n",
      "loss: 81.85062408447266\n",
      "loss: 81.90247344970703\n",
      "loss: 81.64632415771484\n",
      "\n",
      "epochs 2/10 \n"
     ]
    },
    {
     "data": {
      "application/vnd.jupyter.widget-view+json": {
       "model_id": "660716d3133144cbb995b4fb415e64c4",
       "version_major": 2,
       "version_minor": 0
      },
      "text/plain": [
       "HBox(children=(FloatProgress(value=0.0, max=541.0), HTML(value='')))"
      ]
     },
     "metadata": {},
     "output_type": "display_data"
    },
    {
     "name": "stdout",
     "output_type": "stream",
     "text": [
      "loss: 81.85250854492188\n",
      "loss: 82.13040161132812\n",
      "loss: 81.33638000488281\n",
      "loss: 81.13587951660156\n",
      "loss: 81.28528594970703\n",
      "loss: 81.23551940917969\n",
      "\n",
      "epochs 3/10 \n"
     ]
    },
    {
     "data": {
      "application/vnd.jupyter.widget-view+json": {
       "model_id": "d7d3f06b95fe4a23930ecf2c193e245c",
       "version_major": 2,
       "version_minor": 0
      },
      "text/plain": [
       "HBox(children=(FloatProgress(value=0.0, max=541.0), HTML(value='')))"
      ]
     },
     "metadata": {},
     "output_type": "display_data"
    },
    {
     "name": "stdout",
     "output_type": "stream",
     "text": [
      "loss: 80.93965148925781\n",
      "loss: 80.6329345703125\n",
      "loss: 80.66626739501953\n",
      "loss: 80.54659271240234\n",
      "loss: 80.1569595336914\n",
      "loss: 79.75047302246094\n",
      "\n",
      "epochs 4/10 \n"
     ]
    },
    {
     "data": {
      "application/vnd.jupyter.widget-view+json": {
       "model_id": "2155039fa19c496e8204891b68b4abf1",
       "version_major": 2,
       "version_minor": 0
      },
      "text/plain": [
       "HBox(children=(FloatProgress(value=0.0, max=541.0), HTML(value='')))"
      ]
     },
     "metadata": {},
     "output_type": "display_data"
    },
    {
     "name": "stdout",
     "output_type": "stream",
     "text": [
      "loss: 79.863525390625\n",
      "loss: 80.2695541381836\n",
      "loss: 78.51084899902344\n",
      "loss: 79.75166320800781\n",
      "loss: 79.26213836669922\n",
      "loss: 79.55399322509766\n",
      "\n",
      "epochs 5/10 \n"
     ]
    },
    {
     "data": {
      "application/vnd.jupyter.widget-view+json": {
       "model_id": "35913dc0969f424092ff9f5b235d954f",
       "version_major": 2,
       "version_minor": 0
      },
      "text/plain": [
       "HBox(children=(FloatProgress(value=0.0, max=541.0), HTML(value='')))"
      ]
     },
     "metadata": {},
     "output_type": "display_data"
    },
    {
     "name": "stdout",
     "output_type": "stream",
     "text": [
      "loss: 78.57501220703125\n",
      "loss: 79.03003692626953\n",
      "loss: 78.86270141601562\n",
      "loss: 78.21586608886719\n",
      "loss: 78.3100357055664\n",
      "loss: 78.18860626220703\n",
      "\n",
      "epochs 6/10 \n"
     ]
    },
    {
     "data": {
      "application/vnd.jupyter.widget-view+json": {
       "model_id": "9bd9caf373d64b8783cd9219ad090266",
       "version_major": 2,
       "version_minor": 0
      },
      "text/plain": [
       "HBox(children=(FloatProgress(value=0.0, max=541.0), HTML(value='')))"
      ]
     },
     "metadata": {},
     "output_type": "display_data"
    },
    {
     "name": "stdout",
     "output_type": "stream",
     "text": [
      "loss: 78.62287139892578\n",
      "loss: 78.38431549072266\n",
      "loss: 77.47711181640625\n",
      "loss: 77.6244888305664\n",
      "loss: 77.81326293945312\n",
      "loss: 79.42903137207031\n",
      "\n",
      "epochs 7/10 \n"
     ]
    },
    {
     "data": {
      "application/vnd.jupyter.widget-view+json": {
       "model_id": "ae8d3577955b4c82be0d75c8500ee6a5",
       "version_major": 2,
       "version_minor": 0
      },
      "text/plain": [
       "HBox(children=(FloatProgress(value=0.0, max=541.0), HTML(value='')))"
      ]
     },
     "metadata": {},
     "output_type": "display_data"
    },
    {
     "name": "stdout",
     "output_type": "stream",
     "text": [
      "loss: 77.11848449707031\n",
      "loss: 77.31495666503906\n",
      "loss: 78.24334716796875\n",
      "loss: 77.68861389160156\n",
      "loss: 78.0119400024414\n",
      "loss: 72.15303039550781\n",
      "\n",
      "epochs 8/10 \n"
     ]
    },
    {
     "data": {
      "application/vnd.jupyter.widget-view+json": {
       "model_id": "fb012f451efc43e4a3c13b3ec4277b30",
       "version_major": 2,
       "version_minor": 0
      },
      "text/plain": [
       "HBox(children=(FloatProgress(value=0.0, max=541.0), HTML(value='')))"
      ]
     },
     "metadata": {},
     "output_type": "display_data"
    },
    {
     "name": "stdout",
     "output_type": "stream",
     "text": [
      "loss: 74.40158081054688\n",
      "loss: 75.52981567382812\n",
      "loss: 77.88772583007812\n",
      "loss: 74.4022445678711\n",
      "loss: 76.66646575927734\n",
      "loss: 73.41496276855469\n",
      "\n",
      "epochs 9/10 \n"
     ]
    },
    {
     "data": {
      "application/vnd.jupyter.widget-view+json": {
       "model_id": "d1736e4b20704a779512519a990aca26",
       "version_major": 2,
       "version_minor": 0
      },
      "text/plain": [
       "HBox(children=(FloatProgress(value=0.0, max=541.0), HTML(value='')))"
      ]
     },
     "metadata": {},
     "output_type": "display_data"
    },
    {
     "name": "stdout",
     "output_type": "stream",
     "text": [
      "loss: 78.5359878540039\n",
      "loss: 72.60082244873047\n",
      "loss: 75.61724090576172\n",
      "loss: 75.33705139160156\n",
      "loss: 77.81996154785156\n",
      "loss: 73.064453125\n",
      "\n",
      "epochs 10/10 \n"
     ]
    },
    {
     "data": {
      "application/vnd.jupyter.widget-view+json": {
       "model_id": "7bf1e1940c574bf38ac9ca901a3328af",
       "version_major": 2,
       "version_minor": 0
      },
      "text/plain": [
       "HBox(children=(FloatProgress(value=0.0, max=541.0), HTML(value='')))"
      ]
     },
     "metadata": {},
     "output_type": "display_data"
    },
    {
     "name": "stdout",
     "output_type": "stream",
     "text": [
      "loss: 77.75894927978516\n",
      "loss: 71.85081481933594\n",
      "loss: 73.70133972167969\n",
      "loss: 72.11607360839844\n",
      "loss: 76.77803039550781\n",
      "loss: 78.40642547607422\n",
      "\n"
     ]
    }
   ],
   "source": [
    "epochs = 10\n",
    "if TRAIN:\n",
    "    for epoch in range(epochs):\n",
    "        train(epoch)\n",
    "        torch.save(model.state_dict(), './saved_weights.pth')\n",
    "else:\n",
    "    model.load_state_dict(torch.load('./saved_weights.pth'))"
   ]
  },
  {
   "cell_type": "markdown",
   "metadata": {},
   "source": [
    "# 異常度の計算"
   ]
  },
  {
   "cell_type": "code",
   "execution_count": 14,
   "metadata": {},
   "outputs": [],
   "source": [
    "from scipy import spatial\n",
    "model.eval()\n",
    "def cosin_metric(x1, x2):\n",
    "    return np.dot(x1, x2) / (np.linalg.norm(x1) * np.linalg.norm(x2))\n",
    "\n",
    "def cosin_metric_each(x1, x2):\n",
    "    return np.dot(x1, x2) / (np.linalg.norm(x1, axis=1) * np.linalg.norm(x2))"
   ]
  },
  {
   "cell_type": "code",
   "execution_count": 15,
   "metadata": {},
   "outputs": [
    {
     "name": "stdout",
     "output_type": "stream",
     "text": [
      "same number: [[-0.02479938]]\n"
     ]
    }
   ],
   "source": [
    "with torch.no_grad():\n",
    "    train = trainset[1][0]\n",
    "    out1 = model(train.unsqueeze(0).to(device)).cpu().numpy()\n",
    "    test = testset_norm[0][0]\n",
    "    out2 = model(test.unsqueeze(0).to(device)).cpu().numpy()\n",
    "    \n",
    "print(\"same number:\", cosin_metric(out1, out2.T))"
   ]
  },
  {
   "cell_type": "code",
   "execution_count": 16,
   "metadata": {},
   "outputs": [
    {
     "name": "stdout",
     "output_type": "stream",
     "text": [
      "diff number: [[0.36712033]]\n"
     ]
    }
   ],
   "source": [
    "with torch.no_grad():\n",
    "    train = trainset[1][0]\n",
    "    out1 = model(train.unsqueeze(0).to(device)).cpu().numpy()\n",
    "    test = testset[0][0]\n",
    "    out2 = model(test.unsqueeze(0).to(device)).cpu().numpy()\n",
    "    \n",
    "print(\"diff number:\", cosin_metric(out1, out2.T))"
   ]
  },
  {
   "cell_type": "code",
   "execution_count": 17,
   "metadata": {},
   "outputs": [],
   "source": [
    "torch.cuda.empty_cache()"
   ]
  },
  {
   "cell_type": "markdown",
   "metadata": {},
   "source": [
    "## inference and evaluate distance."
   ]
  },
  {
   "cell_type": "code",
   "execution_count": 18,
   "metadata": {},
   "outputs": [
    {
     "name": "stderr",
     "output_type": "stream",
     "text": [
      "<ipython-input-18-f7ca4b39054d>:1: TqdmDeprecationWarning: This function will be removed in tqdm==5.0.0\n",
      "Please use `tqdm.notebook.tqdm` instead of `tqdm.tqdm_notebook`\n",
      "  t = tqdm(trainloader)\n"
     ]
    },
    {
     "data": {
      "application/vnd.jupyter.widget-view+json": {
       "model_id": "259c0ebdf9ba4dcc838a9578347b4f31",
       "version_major": 2,
       "version_minor": 0
      },
      "text/plain": [
       "HBox(children=(FloatProgress(value=0.0, max=541.0), HTML(value='')))"
      ]
     },
     "metadata": {},
     "output_type": "display_data"
    },
    {
     "name": "stdout",
     "output_type": "stream",
     "text": [
      "\n"
     ]
    },
    {
     "name": "stderr",
     "output_type": "stream",
     "text": [
      "<ipython-input-18-f7ca4b39054d>:16: TqdmDeprecationWarning: This function will be removed in tqdm==5.0.0\n",
      "Please use `tqdm.notebook.tqdm` instead of `tqdm.tqdm_notebook`\n",
      "  t = tqdm(testloader1)\n"
     ]
    },
    {
     "data": {
      "application/vnd.jupyter.widget-view+json": {
       "model_id": "c4671a6e5cc1451ea69d0a06c4bd461b",
       "version_major": 2,
       "version_minor": 0
      },
      "text/plain": [
       "HBox(children=(FloatProgress(value=0.0, max=90.0), HTML(value='')))"
      ]
     },
     "metadata": {},
     "output_type": "display_data"
    },
    {
     "name": "stdout",
     "output_type": "stream",
     "text": [
      "\n"
     ]
    },
    {
     "name": "stderr",
     "output_type": "stream",
     "text": [
      "<ipython-input-18-f7ca4b39054d>:33: TqdmDeprecationWarning: This function will be removed in tqdm==5.0.0\n",
      "Please use `tqdm.notebook.tqdm` instead of `tqdm.tqdm_notebook`\n",
      "  t = tqdm(testloader)\n"
     ]
    },
    {
     "data": {
      "application/vnd.jupyter.widget-view+json": {
       "model_id": "47fd2d067bd24c25aaf6793788155653",
       "version_major": 2,
       "version_minor": 0
      },
      "text/plain": [
       "HBox(children=(FloatProgress(value=0.0, max=11.0), HTML(value='')))"
      ]
     },
     "metadata": {},
     "output_type": "display_data"
    },
    {
     "name": "stdout",
     "output_type": "stream",
     "text": [
      "\n"
     ]
    }
   ],
   "source": [
    "t = tqdm(trainloader)  \n",
    "for idx, (inputs,labels1) in enumerate(t):       \n",
    "    # send to gpu\n",
    "    inputs = inputs.to(device)\n",
    "    labels1 = torch.zeros(inputs.size()[0]).to(device).long() #.unsqueeze(1)\n",
    "    # run model\n",
    "    with torch.no_grad():\n",
    "        out = model(inputs.float())\n",
    "    if idx  == 0:\n",
    "        outs = out\n",
    "    else:\n",
    "        outs = torch.cat((outs, out))\n",
    "\n",
    "normals = outs.cpu().numpy()\n",
    "\n",
    "t = tqdm(testloader1)\n",
    "norm_labels = []\n",
    "for idx, (inputs,labels1) in enumerate(t):       \n",
    "    # send to gpu\n",
    "    inputs = inputs.to(device)\n",
    "    norm_labels.extend(labels1.numpy())\n",
    "    labels1 = torch.zeros(inputs.size()[0]).to(device).long() #.unsqueeze(1)\n",
    "    # run model\n",
    "    with torch.no_grad():\n",
    "        out = model(inputs.float())\n",
    "    if idx  == 0:\n",
    "        outs = out\n",
    "    else:\n",
    "        outs = torch.cat((outs, out))\n",
    "\n",
    "normals1 = outs.cpu().numpy()\n",
    "\n",
    "t = tqdm(testloader)  \n",
    "for idx, (inputs,labels1) in enumerate(t):       \n",
    "    # send to gpu\n",
    "    inputs = inputs.to(device)\n",
    "    labels1 = torch.zeros(inputs.size()[0]).to(device).long() #.unsqueeze(1)\n",
    "    # run model\n",
    "    with torch.no_grad():\n",
    "        out = model(inputs.float())\n",
    "    if idx  == 0:\n",
    "        outs = out\n",
    "    else:\n",
    "        outs = torch.cat((outs, out))\n",
    "        \n",
    "abnormals = outs.cpu().numpy()"
   ]
  },
  {
   "cell_type": "code",
   "execution_count": 19,
   "metadata": {},
   "outputs": [
    {
     "name": "stdout",
     "output_type": "stream",
     "text": [
      "different number: 194.47823\n",
      "same number: 159.7293\n"
     ]
    }
   ],
   "source": [
    "# Compute ecidian distance\n",
    "with torch.no_grad():\n",
    "    test = testset[1][0]\n",
    "    out2 = model(test.unsqueeze(0).to(device)).cpu().numpy()\n",
    "\n",
    "print(\"different number:\",np.linalg.norm(normals-out2))\n",
    "\n",
    "with torch.no_grad():\n",
    "    test = testset_norm[1][0]\n",
    "    out2 = model(test.unsqueeze(0).to(device)).cpu().numpy()\n",
    "\n",
    "print(\"same number:\", np.linalg.norm(normals-out2))"
   ]
  },
  {
   "cell_type": "code",
   "execution_count": 20,
   "metadata": {},
   "outputs": [
    {
     "name": "stdout",
     "output_type": "stream",
     "text": [
      "(5, 3)\n",
      "(1, 3)\n",
      "[[0.41547853]\n",
      " [0.41310617]\n",
      " [0.26052016]\n",
      " [0.26344305]\n",
      " [0.03915857]]\n",
      "[0.9290382  0.92373353 0.5825408  0.5890766  0.08756123]\n"
     ]
    }
   ],
   "source": [
    "# cosine metric\n",
    "a = normals[0:5]\n",
    "print(a.shape)\n",
    "\n",
    "with torch.no_grad():\n",
    "    test = testset[2][0]\n",
    "    out2 = model(test.unsqueeze(0).to(device)).cpu().numpy()\n",
    "b = out2\n",
    "\n",
    "print(out2.shape)\n",
    "\n",
    "print(cosin_metric(a, b.T))\n",
    "print(np.mean(cosin_metric_each(a, b.T), axis=1))"
   ]
  },
  {
   "cell_type": "code",
   "execution_count": 21,
   "metadata": {},
   "outputs": [
    {
     "name": "stdout",
     "output_type": "stream",
     "text": [
      "(5, 3)\n",
      "(1, 3)\n",
      "[[0.3655458 ]\n",
      " [0.3714232 ]\n",
      " [0.2479679 ]\n",
      " [0.44717368]\n",
      " [0.19803897]]\n",
      "[0.8173853  0.8305275  0.5544731  0.9999107  0.44282857]\n"
     ]
    }
   ],
   "source": [
    "# cosine metric\n",
    "a = normals[0:5]\n",
    "print(a.shape)\n",
    "\n",
    "with torch.no_grad():\n",
    "    test = testset_norm[2][0]\n",
    "    out2 = model(test.unsqueeze(0).to(device)).cpu().numpy()\n",
    "b = out2\n",
    "\n",
    "print(out2.shape)\n",
    "\n",
    "print(cosin_metric(a, b.T))\n",
    "print(np.mean(cosin_metric_each(a, b.T), axis=1))"
   ]
  },
  {
   "cell_type": "code",
   "execution_count": 22,
   "metadata": {},
   "outputs": [
    {
     "name": "stdout",
     "output_type": "stream",
     "text": [
      "different number: 0.6275623\n",
      "same number: [0.00301884]\n"
     ]
    }
   ],
   "source": [
    "# compute cosine distance with my function\n",
    "with torch.no_grad():\n",
    "    test = testset[2][0]\n",
    "    out2 = model(test.unsqueeze(0).to(device)).cpu().numpy()\n",
    "\n",
    "print(\"different number:\", np.mean(cosin_metric_each(normals, out2.T)))\n",
    "\n",
    "with torch.no_grad():\n",
    "    test = testset_norm[2][0]\n",
    "    out2 = model(test.unsqueeze(0).to(device)).cpu().numpy()\n",
    "\n",
    "print(\"same number:\", np.mean(cosin_metric(normals, out2.T), axis=0))"
   ]
  },
  {
   "cell_type": "code",
   "execution_count": 23,
   "metadata": {},
   "outputs": [
    {
     "name": "stdout",
     "output_type": "stream",
     "text": [
      "different number: 0.9290382862091064\n"
     ]
    }
   ],
   "source": [
    "# compute cosine distance with scipy\n",
    "with torch.no_grad():\n",
    "    test = testset[2][0]\n",
    "    out2 = model(test.unsqueeze(0).to(device)).cpu().numpy()\n",
    "print(\"different number:\", 1 - spatial.distance.cosine(normals[0,:], out2.T))"
   ]
  },
  {
   "cell_type": "code",
   "execution_count": 24,
   "metadata": {},
   "outputs": [
    {
     "data": {
      "image/png": "[encoded data removed]",
      "text/plain": [
       "<Figure size 432x288 with 1 Axes>"
      ]
     },
     "metadata": {
      "needs_background": "light"
     },
     "output_type": "display_data"
    }
   ],
   "source": [
    "# print scatter plot of same 1s\n",
    "# Euclidian\n",
    "norm = []\n",
    "for n in normals1:\n",
    "    norm.append(np.linalg.norm(normals-n))\n",
    "# Cosine simularity\n",
    "norm = np.mean(cosin_metric(normals, normals1.T), axis=0)\n",
    "\n",
    "import matplotlib.pyplot as plt\n",
    "same = norm\n",
    "plt.plot(same)\n",
    "plt.show()"
   ]
  },
  {
   "cell_type": "code",
   "execution_count": 25,
   "metadata": {
    "scrolled": true
   },
   "outputs": [
    {
     "data": {
      "image/png": "[encoded data removed]",
      "text/plain": [
       "<Figure size 432x288 with 1 Axes>"
      ]
     },
     "metadata": {
      "needs_background": "light"
     },
     "output_type": "display_data"
    }
   ],
   "source": [
    "# print scatter plot of same 1s\n",
    "# Euclidian\n",
    "norm = []\n",
    "for n in abnormals:\n",
    "    norm.append(np.linalg.norm(normals-n))\n",
    "    \n",
    "# Cosine simularity\n",
    "norm = np.mean(cosin_metric(normals, abnormals.T), axis=0)\n",
    "import matplotlib.pyplot as plt\n",
    "different = norm\n",
    "plt.plot(different)\n",
    "plt.show()"
   ]
  },
  {
   "cell_type": "markdown",
   "metadata": {},
   "source": [
    "# 推論結果を3D可視化"
   ]
  },
  {
   "cell_type": "code",
   "execution_count": null,
   "metadata": {},
   "outputs": [],
   "source": [
    "# https://github.com/egcode/pytorch-losses/blob/master/mnist-visualize-arcface6_fc7-loss.ipynb\n",
    "f3d = []\n",
    "lbls = []\n",
    "ans = []\n",
    "for i in range(len(testset_norm)):\n",
    "    image_tensor, label_tensor = testloader1.dataset[i]\n",
    "    ans.extend([label_tensor])\n",
    "    label_tensor = torch.tensor(testloader1.dataset[i][1])\n",
    "    image_tensor = image_tensor.reshape(1,1,28,28)\n",
    "\n",
    "    image_tensor, label_tensor = image_tensor.to(device), label_tensor.to(device)\n",
    "\n",
    "    features3d  = model(image_tensor)\n",
    "    logits = metric_fc(features3d, torch.unsqueeze(label_tensor, dim=-1))\n",
    "    _, prediction = torch.max(logits.data, 1)\n",
    "\n",
    "    f3d.append(features3d[0].cpu().detach().numpy())\n",
    "    \n",
    "    prediction = prediction.cpu().detach().numpy()[0]\n",
    "    lbls.append(prediction)\n",
    "    \n",
    "\n",
    "feat3d = np.array(f3d)\n",
    "print(\"3d features shape\" + str(feat3d.shape))\n",
    "\n",
    "lbls = np.array(lbls)\n",
    "ans = np.array(ans)\n",
    "print(\"labels shape\" + str(lbls.shape))"
   ]
  },
  {
   "cell_type": "code",
   "execution_count": null,
   "metadata": {},
   "outputs": [],
   "source": [
    "ans.shape"
   ]
  },
  {
   "cell_type": "code",
   "execution_count": null,
   "metadata": {},
   "outputs": [],
   "source": [
    "from mpl_toolkits import mplot3d\n",
    "import matplotlib.pyplot as plt\n",
    "%matplotlib inline\n",
    "\n",
    "fig = plt.figure(figsize=(16,9))\n",
    "ax = plt.axes(projection='3d')\n",
    "\n",
    "for i in range(10):\n",
    "    # Data for three-dimensional scattered points\n",
    "    xdata = feat3d[ans==i,2].flatten()\n",
    "    ydata = feat3d[ans==i,0].flatten()\n",
    "    zdata = feat3d[ans==i,1].flatten()\n",
    "    ax.scatter3D(xdata, ydata, zdata);\n",
    "ax.legend(['0', '1', '2', '3', '4', '5', '6', '7', '8', '9'],loc='center left', bbox_to_anchor=(1, 0.5))\n",
    "\n",
    "plt.show()"
   ]
  },
  {
   "cell_type": "markdown",
   "metadata": {},
   "source": [
    "# Visualize by TSNE"
   ]
  },
  {
   "cell_type": "markdown",
   "metadata": {},
   "source": [
    "## 普通の分類結果"
   ]
  },
  {
   "cell_type": "code",
   "execution_count": null,
   "metadata": {},
   "outputs": [],
   "source": [
    "from sklearn.manifold import TSNE\n",
    "# 特徴量抽出\n",
    "feats = normals1\n",
    "# ラベル情報追加\n",
    "\n",
    "# TSNEをfit\n",
    "tSNE_metrics = TSNE(n_components=2, random_state=0).fit_transform(feats)\n",
    "plt.scatter(tSNE_metrics[:, 0], tSNE_metrics[:, 1], c=norm_labels)\n",
    "plt.colorbar()\n",
    "plt.savefig('tsne_classification.png')\n",
    "plt.show()"
   ]
  },
  {
   "cell_type": "markdown",
   "metadata": {},
   "source": [
    "## 異常ラベルとの比較"
   ]
  },
  {
   "cell_type": "code",
   "execution_count": null,
   "metadata": {},
   "outputs": [],
   "source": [
    "predict_y = np.concatenate([normals1, abnormals])\n",
    "diflabel = np.ones_like(different)*9\n",
    "test_y = np.concatenate([norm_labels, diflabel])\n",
    "\n",
    "tSNE_metrics = TSNE(n_components=2, random_state=0).fit_transform(predict_y)\n",
    "plt.scatter(tSNE_metrics[:, 0], tSNE_metrics[:, 1], c=test_y)\n",
    "plt.colorbar()\n",
    "plt.savefig('tsne_abnormals.png')\n",
    "plt.show()"
   ]
  },
  {
   "cell_type": "markdown",
   "metadata": {},
   "source": [
    "## plot roc curve"
   ]
  },
  {
   "cell_type": "code",
   "execution_count": null,
   "metadata": {},
   "outputs": [],
   "source": [
    "predict_y = np.concatenate([same, different])\n",
    "samelabel = np.ones_like(same)\n",
    "diflabel = np.zeros_like(different)\n",
    "test_y = np.concatenate([samelabel, diflabel])"
   ]
  },
  {
   "cell_type": "code",
   "execution_count": null,
   "metadata": {},
   "outputs": [],
   "source": [
    "from sklearn import metrics\n",
    "import matplotlib.pyplot as plt\n",
    "import numpy as np\n",
    "\n",
    "# FPR, TPR(, しきい値) を算出\n",
    "fpr, tpr, thresholds = metrics.roc_curve(test_y, predict_y)"
   ]
  },
  {
   "cell_type": "code",
   "execution_count": null,
   "metadata": {},
   "outputs": [],
   "source": [
    "# ついでにAUCも\n",
    "auc = metrics.auc(fpr, tpr)\n",
    "\n",
    "# ROC曲線をプロット\n",
    "plt.plot(fpr, tpr, label='ROC curve (area = %.2f)'%auc)\n",
    "plt.legend()\n",
    "plt.title('ROC curve')\n",
    "plt.xlabel('False Positive Rate')\n",
    "plt.ylabel('True Positive Rate')\n",
    "plt.grid(True)"
   ]
  },
  {
   "cell_type": "code",
   "execution_count": null,
   "metadata": {},
   "outputs": [],
   "source": []
  }
 ],
 "metadata": {
  "kernelspec": {
   "display_name": "Python 3",
   "language": "python",
   "name": "python3"
  },
  "language_info": {
   "codemirror_mode": {
    "name": "ipython",
    "version": 3
   },
   "file_extension": ".py",
   "mimetype": "text/x-python",
   "name": "python",
   "nbconvert_exporter": "python",
   "pygments_lexer": "ipython3",
   "version": "3.8.2"
  }
 },
 "nbformat": 4,
 "nbformat_minor": 2
}
