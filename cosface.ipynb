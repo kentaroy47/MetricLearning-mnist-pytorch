{
 "cells": [
  {
   "cell_type": "code",
   "execution_count": 1,
   "metadata": {},
   "outputs": [],
   "source": [
    "# 異常として分類するラベル\n",
    "target = 9"
   ]
  },
  {
   "cell_type": "code",
   "execution_count": 2,
   "metadata": {},
   "outputs": [],
   "source": [
    "import torch\n",
    "import torch.nn.functional as F\n",
    "import torchvision\n",
    "import torchvision.transforms as transforms\n",
    "import numpy as np\n",
    "import torch.nn as nn\n",
    "from tqdm import tqdm_notebook as tqdm\n",
    "\n",
    "TRAIN = True\n",
    "\n",
    "transform = transforms.Compose(\n",
    "    [transforms.ToTensor(),\n",
    "     transforms.Normalize((0.13, ), (0.3, ))])\n",
    "\n",
    "trainset = torchvision.datasets.MNIST(root='./data', \n",
    "                                        train=True,\n",
    "                                        download=True,\n",
    "                                        transform=transform)\n",
    "\n",
    "testset = torchvision.datasets.MNIST(root='./data', \n",
    "                                        train=False, \n",
    "                                        download=True, \n",
    "                                        transform=transform)\n",
    "\n",
    "classes = tuple(np.linspace(0, 9, 10, dtype=np.uint8))"
   ]
  },
  {
   "cell_type": "code",
   "execution_count": 3,
   "metadata": {},
   "outputs": [],
   "source": [
    "raw_y = np.array([int(y) for y in trainset.targets])\n",
    "raw_x = np.array([y for y in trainset.data.numpy()])"
   ]
  },
  {
   "cell_type": "code",
   "execution_count": 4,
   "metadata": {},
   "outputs": [
    {
     "name": "stderr",
     "output_type": "stream",
     "text": [
      "/home/ken/anaconda3/envs/pytorch/lib/python3.8/site-packages/torchvision/datasets/mnist.py:45: UserWarning: train_labels has been renamed targets\n",
      "  warnings.warn(\"train_labels has been renamed targets\")\n"
     ]
    }
   ],
   "source": [
    "idx = trainset.train_labels!=target\n",
    "trainset.targets = trainset.targets[idx]\n",
    "trainset.data = trainset.data[idx]"
   ]
  },
  {
   "cell_type": "code",
   "execution_count": 5,
   "metadata": {},
   "outputs": [],
   "source": [
    "idx = testset.train_labels==target\n",
    "testset.targets = testset.targets[idx]\n",
    "testset.data = testset.data[idx]"
   ]
  },
  {
   "cell_type": "markdown",
   "metadata": {},
   "source": [
    "set dataloader"
   ]
  },
  {
   "cell_type": "code",
   "execution_count": 6,
   "metadata": {},
   "outputs": [],
   "source": [
    "trainloader = torch.utils.data.DataLoader(trainset,\n",
    "                                            batch_size=100,\n",
    "                                            shuffle=True,\n",
    "                                            num_workers=0)\n",
    "testloader = torch.utils.data.DataLoader(testset, \n",
    "                                            batch_size=100,\n",
    "                                            shuffle=False, \n",
    "                                            num_workers=0)"
   ]
  },
  {
   "cell_type": "code",
   "execution_count": 7,
   "metadata": {},
   "outputs": [],
   "source": [
    "# 正常データをサンプル\n",
    "testset_norm = torchvision.datasets.MNIST(root='./data', \n",
    "                                        train=False, \n",
    "                                        download=True, \n",
    "                                        transform=transform)\n",
    "idx = testset_norm.train_labels!=target\n",
    "testset_norm.targets = testset_norm.targets[idx]\n",
    "testset_norm.data = testset_norm.data[idx]\n",
    "testloader1 = torch.utils.data.DataLoader(testset_norm, \n",
    "                                            batch_size=100,\n",
    "                                            shuffle=False, \n",
    "                                            num_workers=0)\n"
   ]
  },
  {
   "cell_type": "markdown",
   "metadata": {},
   "source": [
    "## define model"
   ]
  },
  {
   "cell_type": "code",
   "execution_count": 8,
   "metadata": {},
   "outputs": [],
   "source": [
    "import pretrainedmodels\n",
    "model_name = \"resnet18\"\n",
    "basemodel = pretrainedmodels.__dict__[model_name](num_classes=1000, pretrained='imagenet')\n",
    "basemodel = nn.Sequential(*list(basemodel.children())[1:-2])"
   ]
  },
  {
   "cell_type": "code",
   "execution_count": 9,
   "metadata": {},
   "outputs": [],
   "source": [
    "from metrics import ArcMarginProduct\n",
    "class mymodel(nn.Module):\n",
    "    def __init__(self):\n",
    "        super(mymodel, self).__init__()\n",
    "        self.features = basemodel\n",
    "        self.conv1 = nn.Conv2d(1, 64, kernel_size=3, padding=1, bias=False)\n",
    "        if model_name == \"resnet34\" or model_name == \"resnet18\":\n",
    "            num_ch = 512\n",
    "        else:\n",
    "            num_ch = 2048\n",
    "        self.avgpool = nn.AdaptiveAvgPool2d(1)\n",
    "        # 全結合層で圧縮\n",
    "        self.fc1 = nn.Linear(num_ch, 3)\n",
    "        #self.fc2 = nn.Linear(64, 3)\n",
    "        self.prelu_weight = nn.Parameter(torch.Tensor(1).fill_(0.25))\n",
    "        \n",
    "    def forward(self, x):\n",
    "        # extract features\n",
    "        x = self.conv1(x)\n",
    "        x = self.features(x)\n",
    "        x = self.avgpool(x).squeeze(2).squeeze(2)\n",
    "        x = F.prelu(self.fc1(x), self.prelu_weight)\n",
    "        \n",
    "        return x"
   ]
  },
  {
   "cell_type": "code",
   "execution_count": 10,
   "metadata": {},
   "outputs": [],
   "source": [
    "device = torch.device(\"cuda\" if torch.cuda.is_available() else \"cpu\")\n",
    "model = mymodel()\n",
    "model = model.to(device)"
   ]
  },
  {
   "cell_type": "markdown",
   "metadata": {},
   "source": [
    "# define arcface"
   ]
  },
  {
   "cell_type": "code",
   "execution_count": 11,
   "metadata": {},
   "outputs": [],
   "source": [
    "from metrics import AddMarginProduct\n",
    "metric_fc = AddMarginProduct(3, 9, s=3).to(device)\n",
    "criterion = torch.nn.CrossEntropyLoss()\n",
    "\n",
    "# optimzer nn\n",
    "optimizer_nn = torch.optim.SGD(model.parameters(), lr=0.01, momentum=0.9, weight_decay=0.0005)\n",
    "\n",
    "# optimzer cosface or arcface\n",
    "optimzer_arcface = torch.optim.SGD(metric_fc.parameters(), lr=0.01)"
   ]
  },
  {
   "cell_type": "markdown",
   "metadata": {},
   "source": [
    "## train script"
   ]
  },
  {
   "cell_type": "code",
   "execution_count": 12,
   "metadata": {},
   "outputs": [],
   "source": [
    "def train(epoch):\n",
    "    model.train()\n",
    "    print('epochs {}/{} '.format(epoch+1,epochs))\n",
    "    running_loss = 0.0\n",
    "    running_acc = 0.0\n",
    "    acc1 = 0.0\n",
    "    acc2 = 0.0\n",
    "    acc3 = 0.0\n",
    "    t = tqdm(trainloader)\n",
    "    \n",
    "    for idx, (inputs,labels1) in enumerate(t):       \n",
    "        # send to gpu\n",
    "        inputs = inputs.to(device)\n",
    "        labels1 = labels1.to(device)\n",
    "        \n",
    "        # set opt\n",
    "        optimizer_nn.zero_grad()\n",
    "        optimzer_arcface.zero_grad()\n",
    "        \n",
    "        # run model\n",
    "        feat = model(inputs.float())\n",
    "        outputs = metric_fc(feat, labels1)\n",
    "\n",
    "        loss = criterion(outputs,labels1)\n",
    "        loss.backward()\n",
    "        \n",
    "        optimizer_nn.step()\n",
    "        optimzer_arcface.step()\n",
    "        \n",
    "        # Compute accuracy\n",
    "        _, predicted = torch.max(outputs.data, 1)\n",
    "        accuracy = (labels1.data == predicted).float().mean()\n",
    "        \n",
    "        if idx%100==0:\n",
    "            print(\"loss:\",loss.item())\n",
    "            print(\"acc:\", accuracy)\n",
    "        "
   ]
  },
  {
   "cell_type": "code",
   "execution_count": 13,
   "metadata": {
    "scrolled": false
   },
   "outputs": [
    {
     "name": "stdout",
     "output_type": "stream",
     "text": [
      "epochs 1/20 \n"
     ]
    },
    {
     "name": "stderr",
     "output_type": "stream",
     "text": [
      "<ipython-input-12-81a1e1149074>:9: TqdmDeprecationWarning: This function will be removed in tqdm==5.0.0\n",
      "Please use `tqdm.notebook.tqdm` instead of `tqdm.tqdm_notebook`\n",
      "  t = tqdm(trainloader)\n"
     ]
    },
    {
     "data": {
      "application/vnd.jupyter.widget-view+json": {
       "model_id": "40cb0fe1082b4c20adf3e2314566b64e",
       "version_major": 2,
       "version_minor": 0
      },
      "text/plain": [
       "HBox(children=(FloatProgress(value=0.0, max=541.0), HTML(value='')))"
      ]
     },
     "metadata": {},
     "output_type": "display_data"
    },
    {
     "name": "stdout",
     "output_type": "stream",
     "text": [
      "loss: 4.65086030960083\n",
      "acc: tensor(0., device='cuda:0')\n",
      "loss: 1.3397386074066162\n",
      "acc: tensor(0.2100, device='cuda:0')\n",
      "loss: 1.1866910457611084\n",
      "acc: tensor(0.8600, device='cuda:0')\n",
      "loss: 1.183295488357544\n",
      "acc: tensor(0.9000, device='cuda:0')\n",
      "loss: 1.1350282430648804\n",
      "acc: tensor(0.9300, device='cuda:0')\n",
      "loss: 1.1484025716781616\n",
      "acc: tensor(0.9700, device='cuda:0')\n",
      "\n",
      "epochs 2/20 \n"
     ]
    },
    {
     "data": {
      "application/vnd.jupyter.widget-view+json": {
       "model_id": "4e13c7bb27db41d9a7aed3003ee18afb",
       "version_major": 2,
       "version_minor": 0
      },
      "text/plain": [
       "HBox(children=(FloatProgress(value=0.0, max=541.0), HTML(value='')))"
      ]
     },
     "metadata": {},
     "output_type": "display_data"
    },
    {
     "name": "stdout",
     "output_type": "stream",
     "text": [
      "loss: 1.1780427694320679\n",
      "acc: tensor(0.9400, device='cuda:0')\n",
      "loss: 1.116863489151001\n",
      "acc: tensor(0.9700, device='cuda:0')\n",
      "loss: 1.1395853757858276\n",
      "acc: tensor(0.9700, device='cuda:0')\n",
      "loss: 1.226227879524231\n",
      "acc: tensor(0.9500, device='cuda:0')\n",
      "loss: 1.190018653869629\n",
      "acc: tensor(0.9500, device='cuda:0')\n",
      "loss: 1.1381438970565796\n",
      "acc: tensor(0.9700, device='cuda:0')\n",
      "\n",
      "epochs 3/20 \n"
     ]
    },
    {
     "data": {
      "application/vnd.jupyter.widget-view+json": {
       "model_id": "595a244937b840cfade8259066f9cdab",
       "version_major": 2,
       "version_minor": 0
      },
      "text/plain": [
       "HBox(children=(FloatProgress(value=0.0, max=541.0), HTML(value='')))"
      ]
     },
     "metadata": {},
     "output_type": "display_data"
    },
    {
     "name": "stdout",
     "output_type": "stream",
     "text": [
      "loss: 1.168989658355713\n",
      "acc: tensor(0.9500, device='cuda:0')\n",
      "loss: 1.0754141807556152\n",
      "acc: tensor(1., device='cuda:0')\n",
      "loss: 1.1164416074752808\n",
      "acc: tensor(0.9700, device='cuda:0')\n",
      "loss: 1.080198884010315\n",
      "acc: tensor(0.9900, device='cuda:0')\n",
      "loss: 1.1399174928665161\n",
      "acc: tensor(0.9900, device='cuda:0')\n",
      "loss: 1.0724931955337524\n",
      "acc: tensor(1., device='cuda:0')\n",
      "\n",
      "epochs 4/20 \n"
     ]
    },
    {
     "data": {
      "application/vnd.jupyter.widget-view+json": {
       "model_id": "ddfdbdb0b37944c0aaf9417d95f1c0b9",
       "version_major": 2,
       "version_minor": 0
      },
      "text/plain": [
       "HBox(children=(FloatProgress(value=0.0, max=541.0), HTML(value='')))"
      ]
     },
     "metadata": {},
     "output_type": "display_data"
    },
    {
     "name": "stdout",
     "output_type": "stream",
     "text": [
      "loss: 1.0766615867614746\n",
      "acc: tensor(1., device='cuda:0')\n",
      "loss: 1.0736545324325562\n",
      "acc: tensor(1., device='cuda:0')\n",
      "loss: 1.138896107673645\n",
      "acc: tensor(0.9800, device='cuda:0')\n",
      "loss: 1.0919575691223145\n",
      "acc: tensor(0.9900, device='cuda:0')\n",
      "loss: 1.0742355585098267\n",
      "acc: tensor(1., device='cuda:0')\n",
      "loss: 1.0713295936584473\n",
      "acc: tensor(1., device='cuda:0')\n",
      "\n",
      "epochs 5/20 \n"
     ]
    },
    {
     "data": {
      "application/vnd.jupyter.widget-view+json": {
       "model_id": "9d06f58471a34b8887c5b00d51b9efe6",
       "version_major": 2,
       "version_minor": 0
      },
      "text/plain": [
       "HBox(children=(FloatProgress(value=0.0, max=541.0), HTML(value='')))"
      ]
     },
     "metadata": {},
     "output_type": "display_data"
    },
    {
     "name": "stdout",
     "output_type": "stream",
     "text": [
      "loss: 1.0873066186904907\n",
      "acc: tensor(0.9900, device='cuda:0')\n",
      "loss: 1.1009382009506226\n",
      "acc: tensor(0.9900, device='cuda:0')\n",
      "loss: 1.1412973403930664\n",
      "acc: tensor(0.9800, device='cuda:0')\n",
      "loss: 1.0784775018692017\n",
      "acc: tensor(0.9700, device='cuda:0')\n",
      "loss: 1.080633521080017\n",
      "acc: tensor(0.9900, device='cuda:0')\n",
      "loss: 1.1268484592437744\n",
      "acc: tensor(0.9800, device='cuda:0')\n",
      "\n",
      "epochs 6/20 \n"
     ]
    },
    {
     "data": {
      "application/vnd.jupyter.widget-view+json": {
       "model_id": "3f785e361be444e0997d40054655e384",
       "version_major": 2,
       "version_minor": 0
      },
      "text/plain": [
       "HBox(children=(FloatProgress(value=0.0, max=541.0), HTML(value='')))"
      ]
     },
     "metadata": {},
     "output_type": "display_data"
    },
    {
     "name": "stdout",
     "output_type": "stream",
     "text": [
      "loss: 1.118910551071167\n",
      "acc: tensor(0.9800, device='cuda:0')\n",
      "loss: 1.0718497037887573\n",
      "acc: tensor(1., device='cuda:0')\n",
      "loss: 1.0735379457473755\n",
      "acc: tensor(0.9900, device='cuda:0')\n",
      "loss: 1.0770995616912842\n",
      "acc: tensor(1., device='cuda:0')\n",
      "loss: 1.0840970277786255\n",
      "acc: tensor(0.9900, device='cuda:0')\n",
      "loss: 1.0778944492340088\n",
      "acc: tensor(1., device='cuda:0')\n",
      "\n",
      "epochs 7/20 \n"
     ]
    },
    {
     "data": {
      "application/vnd.jupyter.widget-view+json": {
       "model_id": "e6e020c5181141629de11052bf2bf575",
       "version_major": 2,
       "version_minor": 0
      },
      "text/plain": [
       "HBox(children=(FloatProgress(value=0.0, max=541.0), HTML(value='')))"
      ]
     },
     "metadata": {},
     "output_type": "display_data"
    },
    {
     "name": "stdout",
     "output_type": "stream",
     "text": [
      "loss: 1.0687261819839478\n",
      "acc: tensor(1., device='cuda:0')\n",
      "loss: 1.0682744979858398\n",
      "acc: tensor(1., device='cuda:0')\n",
      "loss: 1.1101890802383423\n",
      "acc: tensor(0.9800, device='cuda:0')\n",
      "loss: 1.0793391466140747\n",
      "acc: tensor(0.9900, device='cuda:0')\n",
      "loss: 1.149744987487793\n",
      "acc: tensor(0.9800, device='cuda:0')\n",
      "loss: 1.0762436389923096\n",
      "acc: tensor(1., device='cuda:0')\n",
      "\n",
      "epochs 8/20 \n"
     ]
    },
    {
     "data": {
      "application/vnd.jupyter.widget-view+json": {
       "model_id": "59da454780674d8093537ced021ede4c",
       "version_major": 2,
       "version_minor": 0
      },
      "text/plain": [
       "HBox(children=(FloatProgress(value=0.0, max=541.0), HTML(value='')))"
      ]
     },
     "metadata": {},
     "output_type": "display_data"
    },
    {
     "name": "stdout",
     "output_type": "stream",
     "text": [
      "loss: 1.071845531463623\n",
      "acc: tensor(0.9900, device='cuda:0')\n",
      "loss: 1.0688731670379639\n",
      "acc: tensor(1., device='cuda:0')\n",
      "loss: 1.0815844535827637\n",
      "acc: tensor(0.9900, device='cuda:0')\n",
      "loss: 1.0939770936965942\n",
      "acc: tensor(0.9900, device='cuda:0')\n",
      "loss: 1.071825385093689\n",
      "acc: tensor(1., device='cuda:0')\n",
      "loss: 1.0771268606185913\n",
      "acc: tensor(1., device='cuda:0')\n",
      "\n",
      "epochs 9/20 \n"
     ]
    },
    {
     "data": {
      "application/vnd.jupyter.widget-view+json": {
       "model_id": "b73540cb65404d37b7a41f1bd213dcde",
       "version_major": 2,
       "version_minor": 0
      },
      "text/plain": [
       "HBox(children=(FloatProgress(value=0.0, max=541.0), HTML(value='')))"
      ]
     },
     "metadata": {},
     "output_type": "display_data"
    },
    {
     "name": "stdout",
     "output_type": "stream",
     "text": [
      "loss: 1.0679525136947632\n",
      "acc: tensor(1., device='cuda:0')\n",
      "loss: 1.074374794960022\n",
      "acc: tensor(1., device='cuda:0')\n",
      "loss: 1.0764265060424805\n",
      "acc: tensor(1., device='cuda:0')\n",
      "loss: 1.1337306499481201\n",
      "acc: tensor(0.9900, device='cuda:0')\n",
      "loss: 1.0783636569976807\n",
      "acc: tensor(0.9900, device='cuda:0')\n",
      "loss: 1.0731642246246338\n",
      "acc: tensor(1., device='cuda:0')\n",
      "\n",
      "epochs 10/20 \n"
     ]
    },
    {
     "data": {
      "application/vnd.jupyter.widget-view+json": {
       "model_id": "2c017eaa5d5d4b9dac8754822ce674e0",
       "version_major": 2,
       "version_minor": 0
      },
      "text/plain": [
       "HBox(children=(FloatProgress(value=0.0, max=541.0), HTML(value='')))"
      ]
     },
     "metadata": {},
     "output_type": "display_data"
    },
    {
     "name": "stdout",
     "output_type": "stream",
     "text": [
      "loss: 1.0746417045593262\n",
      "acc: tensor(1., device='cuda:0')\n",
      "loss: 1.080764889717102\n",
      "acc: tensor(1., device='cuda:0')\n",
      "loss: 1.114791750907898\n",
      "acc: tensor(0.9800, device='cuda:0')\n",
      "loss: 1.0710071325302124\n",
      "acc: tensor(1., device='cuda:0')\n",
      "loss: 1.1358085870742798\n",
      "acc: tensor(0.9700, device='cuda:0')\n",
      "loss: 1.0870881080627441\n",
      "acc: tensor(0.9800, device='cuda:0')\n",
      "\n",
      "epochs 11/20 \n"
     ]
    },
    {
     "data": {
      "application/vnd.jupyter.widget-view+json": {
       "model_id": "d3103ea1498443cfb764074fef73b836",
       "version_major": 2,
       "version_minor": 0
      },
      "text/plain": [
       "HBox(children=(FloatProgress(value=0.0, max=541.0), HTML(value='')))"
      ]
     },
     "metadata": {},
     "output_type": "display_data"
    },
    {
     "name": "stdout",
     "output_type": "stream",
     "text": [
      "loss: 1.0729655027389526\n",
      "acc: tensor(1., device='cuda:0')\n",
      "loss: 1.0761079788208008\n",
      "acc: tensor(1., device='cuda:0')\n",
      "loss: 1.142500877380371\n",
      "acc: tensor(0.9800, device='cuda:0')\n",
      "loss: 1.0740917921066284\n",
      "acc: tensor(1., device='cuda:0')\n",
      "loss: 1.0773600339889526\n",
      "acc: tensor(1., device='cuda:0')\n",
      "loss: 1.0768722295761108\n",
      "acc: tensor(1., device='cuda:0')\n",
      "\n",
      "epochs 12/20 \n"
     ]
    },
    {
     "data": {
      "application/vnd.jupyter.widget-view+json": {
       "model_id": "7195afbddf8b44b993206c8be8051cb3",
       "version_major": 2,
       "version_minor": 0
      },
      "text/plain": [
       "HBox(children=(FloatProgress(value=0.0, max=541.0), HTML(value='')))"
      ]
     },
     "metadata": {},
     "output_type": "display_data"
    },
    {
     "name": "stdout",
     "output_type": "stream",
     "text": [
      "loss: 1.0768463611602783\n",
      "acc: tensor(1., device='cuda:0')\n",
      "loss: 1.0728219747543335\n",
      "acc: tensor(1., device='cuda:0')\n",
      "loss: 1.0714843273162842\n",
      "acc: tensor(1., device='cuda:0')\n",
      "loss: 1.066192865371704\n",
      "acc: tensor(1., device='cuda:0')\n",
      "loss: 1.0781300067901611\n",
      "acc: tensor(1., device='cuda:0')\n",
      "loss: 1.1143561601638794\n",
      "acc: tensor(0.9800, device='cuda:0')\n",
      "\n",
      "epochs 13/20 \n"
     ]
    },
    {
     "data": {
      "application/vnd.jupyter.widget-view+json": {
       "model_id": "1778c238237346668180a51bf7d46205",
       "version_major": 2,
       "version_minor": 0
      },
      "text/plain": [
       "HBox(children=(FloatProgress(value=0.0, max=541.0), HTML(value='')))"
      ]
     },
     "metadata": {},
     "output_type": "display_data"
    },
    {
     "name": "stdout",
     "output_type": "stream",
     "text": [
      "loss: 1.0729283094406128\n",
      "acc: tensor(1., device='cuda:0')\n",
      "loss: 1.074571132659912\n",
      "acc: tensor(1., device='cuda:0')\n",
      "loss: 1.0875660181045532\n",
      "acc: tensor(0.9900, device='cuda:0')\n",
      "loss: 1.1117029190063477\n",
      "acc: tensor(0.9800, device='cuda:0')\n",
      "loss: 1.0777207612991333\n",
      "acc: tensor(0.9900, device='cuda:0')\n",
      "loss: 1.0724596977233887\n",
      "acc: tensor(1., device='cuda:0')\n",
      "\n",
      "epochs 14/20 \n"
     ]
    },
    {
     "data": {
      "application/vnd.jupyter.widget-view+json": {
       "model_id": "352543d5225b4a8cb242d58e0dafe254",
       "version_major": 2,
       "version_minor": 0
      },
      "text/plain": [
       "HBox(children=(FloatProgress(value=0.0, max=541.0), HTML(value='')))"
      ]
     },
     "metadata": {},
     "output_type": "display_data"
    },
    {
     "name": "stdout",
     "output_type": "stream",
     "text": [
      "loss: 1.0698044300079346\n",
      "acc: tensor(1., device='cuda:0')\n",
      "loss: 1.106385588645935\n",
      "acc: tensor(0.9800, device='cuda:0')\n",
      "loss: 1.0735515356063843\n",
      "acc: tensor(0.9900, device='cuda:0')\n",
      "loss: 1.0999928712844849\n",
      "acc: tensor(0.9900, device='cuda:0')\n",
      "loss: 1.076175570487976\n",
      "acc: tensor(0.9900, device='cuda:0')\n",
      "loss: 1.0778762102127075\n",
      "acc: tensor(1., device='cuda:0')\n",
      "\n",
      "epochs 15/20 \n"
     ]
    },
    {
     "data": {
      "application/vnd.jupyter.widget-view+json": {
       "model_id": "7b6063f402334e74b1822f8ce79564c2",
       "version_major": 2,
       "version_minor": 0
      },
      "text/plain": [
       "HBox(children=(FloatProgress(value=0.0, max=541.0), HTML(value='')))"
      ]
     },
     "metadata": {},
     "output_type": "display_data"
    },
    {
     "name": "stdout",
     "output_type": "stream",
     "text": [
      "loss: 1.0739291906356812\n",
      "acc: tensor(1., device='cuda:0')\n",
      "loss: 1.0740059614181519\n",
      "acc: tensor(0.9900, device='cuda:0')\n",
      "loss: 1.1030356884002686\n",
      "acc: tensor(0.9800, device='cuda:0')\n",
      "loss: 1.1163352727890015\n",
      "acc: tensor(0.9900, device='cuda:0')\n",
      "loss: 1.0851013660430908\n",
      "acc: tensor(0.9800, device='cuda:0')\n",
      "loss: 1.0709044933319092\n",
      "acc: tensor(1., device='cuda:0')\n",
      "\n",
      "epochs 16/20 \n"
     ]
    },
    {
     "data": {
      "application/vnd.jupyter.widget-view+json": {
       "model_id": "af54c49115414f17b9a6f7843dfefe93",
       "version_major": 2,
       "version_minor": 0
      },
      "text/plain": [
       "HBox(children=(FloatProgress(value=0.0, max=541.0), HTML(value='')))"
      ]
     },
     "metadata": {},
     "output_type": "display_data"
    },
    {
     "name": "stdout",
     "output_type": "stream",
     "text": [
      "loss: 1.1862472295761108\n",
      "acc: tensor(0.9500, device='cuda:0')\n",
      "loss: 1.1073726415634155\n",
      "acc: tensor(0.9900, device='cuda:0')\n",
      "loss: 1.0758147239685059\n",
      "acc: tensor(1., device='cuda:0')\n",
      "loss: 1.0960447788238525\n",
      "acc: tensor(0.9700, device='cuda:0')\n",
      "loss: 1.0798351764678955\n",
      "acc: tensor(1., device='cuda:0')\n",
      "loss: 1.0766966342926025\n",
      "acc: tensor(1., device='cuda:0')\n",
      "\n",
      "epochs 17/20 \n"
     ]
    },
    {
     "data": {
      "application/vnd.jupyter.widget-view+json": {
       "model_id": "82615cb692f5400fac4853658165193f",
       "version_major": 2,
       "version_minor": 0
      },
      "text/plain": [
       "HBox(children=(FloatProgress(value=0.0, max=541.0), HTML(value='')))"
      ]
     },
     "metadata": {},
     "output_type": "display_data"
    },
    {
     "name": "stdout",
     "output_type": "stream",
     "text": [
      "loss: 1.0753833055496216\n",
      "acc: tensor(1., device='cuda:0')\n",
      "loss: 1.0711103677749634\n",
      "acc: tensor(1., device='cuda:0')\n",
      "loss: 1.1044468879699707\n",
      "acc: tensor(0.9900, device='cuda:0')\n",
      "loss: 1.0979399681091309\n",
      "acc: tensor(0.9900, device='cuda:0')\n",
      "loss: 1.0892680883407593\n",
      "acc: tensor(0.9900, device='cuda:0')\n",
      "loss: 1.0630004405975342\n",
      "acc: tensor(1., device='cuda:0')\n",
      "\n",
      "epochs 18/20 \n"
     ]
    },
    {
     "data": {
      "application/vnd.jupyter.widget-view+json": {
       "model_id": "2e46fd8e157943a3afec619af1e24e18",
       "version_major": 2,
       "version_minor": 0
      },
      "text/plain": [
       "HBox(children=(FloatProgress(value=0.0, max=541.0), HTML(value='')))"
      ]
     },
     "metadata": {},
     "output_type": "display_data"
    },
    {
     "name": "stdout",
     "output_type": "stream",
     "text": [
      "loss: 1.0740537643432617\n",
      "acc: tensor(1., device='cuda:0')\n",
      "loss: 1.0697616338729858\n",
      "acc: tensor(1., device='cuda:0')\n",
      "loss: 1.07195246219635\n",
      "acc: tensor(1., device='cuda:0')\n",
      "loss: 1.0709033012390137\n",
      "acc: tensor(1., device='cuda:0')\n",
      "loss: 1.0683751106262207\n",
      "acc: tensor(1., device='cuda:0')\n",
      "loss: 1.0973936319351196\n",
      "acc: tensor(0.9900, device='cuda:0')\n",
      "\n",
      "epochs 19/20 \n"
     ]
    },
    {
     "data": {
      "application/vnd.jupyter.widget-view+json": {
       "model_id": "1b2919cf2e5546d1b2b980f31fe1d372",
       "version_major": 2,
       "version_minor": 0
      },
      "text/plain": [
       "HBox(children=(FloatProgress(value=0.0, max=541.0), HTML(value='')))"
      ]
     },
     "metadata": {},
     "output_type": "display_data"
    },
    {
     "name": "stdout",
     "output_type": "stream",
     "text": [
      "loss: 1.072740077972412\n",
      "acc: tensor(1., device='cuda:0')\n",
      "loss: 1.0782510042190552\n",
      "acc: tensor(1., device='cuda:0')\n",
      "loss: 1.0849677324295044\n",
      "acc: tensor(0.9900, device='cuda:0')\n",
      "loss: 1.0683571100234985\n",
      "acc: tensor(1., device='cuda:0')\n",
      "loss: 1.07802152633667\n",
      "acc: tensor(0.9900, device='cuda:0')\n",
      "loss: 1.0819964408874512\n",
      "acc: tensor(0.9900, device='cuda:0')\n",
      "\n",
      "epochs 20/20 \n"
     ]
    },
    {
     "data": {
      "application/vnd.jupyter.widget-view+json": {
       "model_id": "6c9e6d64bb0f401fa3ab8a736df5ccf3",
       "version_major": 2,
       "version_minor": 0
      },
      "text/plain": [
       "HBox(children=(FloatProgress(value=0.0, max=541.0), HTML(value='')))"
      ]
     },
     "metadata": {},
     "output_type": "display_data"
    },
    {
     "name": "stdout",
     "output_type": "stream",
     "text": [
      "loss: 1.079455852508545\n",
      "acc: tensor(1., device='cuda:0')\n",
      "loss: 1.077825665473938\n",
      "acc: tensor(1., device='cuda:0')\n",
      "loss: 1.0672218799591064\n",
      "acc: tensor(1., device='cuda:0')\n",
      "loss: 1.067861795425415\n",
      "acc: tensor(1., device='cuda:0')\n",
      "loss: 1.0738840103149414\n",
      "acc: tensor(1., device='cuda:0')\n",
      "loss: 1.129430890083313\n",
      "acc: tensor(0.9800, device='cuda:0')\n",
      "\n"
     ]
    }
   ],
   "source": [
    "epochs = 20\n",
    "if TRAIN:\n",
    "    for epoch in range(epochs):\n",
    "        train(epoch)\n",
    "        torch.save(model.state_dict(), './saved_weights.pth')\n",
    "else:\n",
    "    model.load_state_dict(torch.load('./saved_weights.pth'))"
   ]
  },
  {
   "cell_type": "markdown",
   "metadata": {},
   "source": [
    "# 異常度の計算"
   ]
  },
  {
   "cell_type": "code",
   "execution_count": 49,
   "metadata": {},
   "outputs": [],
   "source": [
    "from scipy import spatial\n",
    "model.eval()\n",
    "def cosin_metric(x1, x2):\n",
    "    return np.dot(x1, x2) / (np.linalg.norm(x1) * np.linalg.norm(x2))\n",
    "\n",
    "def cosin_metric_each(x1, x2):\n",
    "    return np.dot(x1, x2) / (np.linalg.norm(x1, axis=1) * np.linalg.norm(x2))"
   ]
  },
  {
   "cell_type": "code",
   "execution_count": 50,
   "metadata": {},
   "outputs": [
    {
     "name": "stdout",
     "output_type": "stream",
     "text": [
      "same number: [[0.24205054]]\n"
     ]
    }
   ],
   "source": [
    "with torch.no_grad():\n",
    "    train = trainset[1][0]\n",
    "    out1 = model(train.unsqueeze(0).to(device)).cpu().numpy()\n",
    "    test = testset_norm[0][0]\n",
    "    out2 = model(test.unsqueeze(0).to(device)).cpu().numpy()\n",
    "    \n",
    "print(\"same number:\", cosin_metric(out1, out2.T))"
   ]
  },
  {
   "cell_type": "code",
   "execution_count": 51,
   "metadata": {},
   "outputs": [
    {
     "name": "stdout",
     "output_type": "stream",
     "text": [
      "diff number: [[-0.8321636]]\n"
     ]
    }
   ],
   "source": [
    "with torch.no_grad():\n",
    "    train = trainset[1][0]\n",
    "    out1 = model(train.unsqueeze(0).to(device)).cpu().numpy()\n",
    "    test = testset[0][0]\n",
    "    out2 = model(test.unsqueeze(0).to(device)).cpu().numpy()\n",
    "    \n",
    "print(\"diff number:\", cosin_metric(out1, out2.T))"
   ]
  },
  {
   "cell_type": "code",
   "execution_count": 16,
   "metadata": {},
   "outputs": [],
   "source": [
    "torch.cuda.empty_cache()"
   ]
  },
  {
   "cell_type": "markdown",
   "metadata": {},
   "source": [
    "## inference and evaluate distance."
   ]
  },
  {
   "cell_type": "code",
   "execution_count": 17,
   "metadata": {},
   "outputs": [
    {
     "name": "stderr",
     "output_type": "stream",
     "text": [
      "<ipython-input-17-f7ca4b39054d>:1: TqdmDeprecationWarning: This function will be removed in tqdm==5.0.0\n",
      "Please use `tqdm.notebook.tqdm` instead of `tqdm.tqdm_notebook`\n",
      "  t = tqdm(trainloader)\n"
     ]
    },
    {
     "data": {
      "application/vnd.jupyter.widget-view+json": {
       "model_id": "0631f25ef8bb408db13c79deb4440bf2",
       "version_major": 2,
       "version_minor": 0
      },
      "text/plain": [
       "HBox(children=(FloatProgress(value=0.0, max=541.0), HTML(value='')))"
      ]
     },
     "metadata": {},
     "output_type": "display_data"
    },
    {
     "name": "stdout",
     "output_type": "stream",
     "text": [
      "\n"
     ]
    },
    {
     "name": "stderr",
     "output_type": "stream",
     "text": [
      "<ipython-input-17-f7ca4b39054d>:16: TqdmDeprecationWarning: This function will be removed in tqdm==5.0.0\n",
      "Please use `tqdm.notebook.tqdm` instead of `tqdm.tqdm_notebook`\n",
      "  t = tqdm(testloader1)\n"
     ]
    },
    {
     "data": {
      "application/vnd.jupyter.widget-view+json": {
       "model_id": "ab9a82660e15430d8bf158d143a68ae7",
       "version_major": 2,
       "version_minor": 0
      },
      "text/plain": [
       "HBox(children=(FloatProgress(value=0.0, max=90.0), HTML(value='')))"
      ]
     },
     "metadata": {},
     "output_type": "display_data"
    },
    {
     "name": "stdout",
     "output_type": "stream",
     "text": [
      "\n"
     ]
    },
    {
     "name": "stderr",
     "output_type": "stream",
     "text": [
      "<ipython-input-17-f7ca4b39054d>:33: TqdmDeprecationWarning: This function will be removed in tqdm==5.0.0\n",
      "Please use `tqdm.notebook.tqdm` instead of `tqdm.tqdm_notebook`\n",
      "  t = tqdm(testloader)\n"
     ]
    },
    {
     "data": {
      "application/vnd.jupyter.widget-view+json": {
       "model_id": "ebfa1ebdb5f24ef987808ec38f6f19f2",
       "version_major": 2,
       "version_minor": 0
      },
      "text/plain": [
       "HBox(children=(FloatProgress(value=0.0, max=11.0), HTML(value='')))"
      ]
     },
     "metadata": {},
     "output_type": "display_data"
    },
    {
     "name": "stdout",
     "output_type": "stream",
     "text": [
      "\n"
     ]
    }
   ],
   "source": [
    "t = tqdm(trainloader)  \n",
    "for idx, (inputs,labels1) in enumerate(t):       \n",
    "    # send to gpu\n",
    "    inputs = inputs.to(device)\n",
    "    labels1 = torch.zeros(inputs.size()[0]).to(device).long() #.unsqueeze(1)\n",
    "    # run model\n",
    "    with torch.no_grad():\n",
    "        out = model(inputs.float())\n",
    "    if idx  == 0:\n",
    "        outs = out\n",
    "    else:\n",
    "        outs = torch.cat((outs, out))\n",
    "\n",
    "normals = outs.cpu().numpy()\n",
    "\n",
    "t = tqdm(testloader1)\n",
    "norm_labels = []\n",
    "for idx, (inputs,labels1) in enumerate(t):       \n",
    "    # send to gpu\n",
    "    inputs = inputs.to(device)\n",
    "    norm_labels.extend(labels1.numpy())\n",
    "    labels1 = torch.zeros(inputs.size()[0]).to(device).long() #.unsqueeze(1)\n",
    "    # run model\n",
    "    with torch.no_grad():\n",
    "        out = model(inputs.float())\n",
    "    if idx  == 0:\n",
    "        outs = out\n",
    "    else:\n",
    "        outs = torch.cat((outs, out))\n",
    "\n",
    "normals1 = outs.cpu().numpy()\n",
    "\n",
    "t = tqdm(testloader)  \n",
    "for idx, (inputs,labels1) in enumerate(t):       \n",
    "    # send to gpu\n",
    "    inputs = inputs.to(device)\n",
    "    labels1 = torch.zeros(inputs.size()[0]).to(device).long() #.unsqueeze(1)\n",
    "    # run model\n",
    "    with torch.no_grad():\n",
    "        out = model(inputs.float())\n",
    "    if idx  == 0:\n",
    "        outs = out\n",
    "    else:\n",
    "        outs = torch.cat((outs, out))\n",
    "        \n",
    "abnormals = outs.cpu().numpy()"
   ]
  },
  {
   "cell_type": "code",
   "execution_count": 18,
   "metadata": {},
   "outputs": [
    {
     "name": "stdout",
     "output_type": "stream",
     "text": [
      "different number: 1916.6825\n",
      "same number: 2651.692\n"
     ]
    }
   ],
   "source": [
    "# Compute ecidian distance\n",
    "with torch.no_grad():\n",
    "    test = testset[1][0]\n",
    "    out2 = model(test.unsqueeze(0).to(device)).cpu().numpy()\n",
    "\n",
    "print(\"different number:\",np.linalg.norm(normals-out2))\n",
    "\n",
    "with torch.no_grad():\n",
    "    test = testset_norm[1][0]\n",
    "    out2 = model(test.unsqueeze(0).to(device)).cpu().numpy()\n",
    "\n",
    "print(\"same number:\", np.linalg.norm(normals-out2))"
   ]
  },
  {
   "cell_type": "code",
   "execution_count": 60,
   "metadata": {},
   "outputs": [
    {
     "name": "stdout",
     "output_type": "stream",
     "text": [
      "(5, 3)\n",
      "(1, 3)\n",
      "[[ 0.09947518]\n",
      " [ 0.22515933]\n",
      " [ 0.09172427]\n",
      " [ 0.08671882]\n",
      " [-0.44132552]]\n",
      "[ 0.25590387  0.5792314   0.23596433  0.22308762 -1.1353276 ]\n"
     ]
    }
   ],
   "source": [
    "# cosine metric\n",
    "a = normals[0:5]\n",
    "print(a.shape)\n",
    "\n",
    "with torch.no_grad():\n",
    "    test = testset[2][0]\n",
    "    out2 = model(test.unsqueeze(0).to(device)).cpu().numpy()\n",
    "b = out2\n",
    "\n",
    "print(out2.shape)\n",
    "\n",
    "print(cosin_metric(a, b.T))\n",
    "print(np.mean(cosin_metric_each(a, b.T), axis=1))"
   ]
  },
  {
   "cell_type": "code",
   "execution_count": 61,
   "metadata": {},
   "outputs": [
    {
     "name": "stdout",
     "output_type": "stream",
     "text": [
      "(5, 3)\n",
      "(1, 3)\n",
      "[[ 0.15858875]\n",
      " [ 0.07727344]\n",
      " [-0.33331856]\n",
      " [-0.31523365]\n",
      " [ 0.22623758]]\n",
      "[ 0.40797585  0.198789   -0.8574753  -0.8109511   0.58200526]\n"
     ]
    }
   ],
   "source": [
    "# cosine metric\n",
    "a = normals[0:5]\n",
    "print(a.shape)\n",
    "\n",
    "with torch.no_grad():\n",
    "    test = testset_norm[2][0]\n",
    "    out2 = model(test.unsqueeze(0).to(device)).cpu().numpy()\n",
    "b = out2\n",
    "\n",
    "print(out2.shape)\n",
    "\n",
    "print(cosin_metric(a, b.T))\n",
    "print(np.mean(cosin_metric_each(a, b.T), axis=1))"
   ]
  },
  {
   "cell_type": "code",
   "execution_count": 43,
   "metadata": {},
   "outputs": [
    {
     "name": "stdout",
     "output_type": "stream",
     "text": [
      "different number: -0.00040335942\n",
      "same number: [-0.00012256]\n"
     ]
    }
   ],
   "source": [
    "# compute cosine distance with my function\n",
    "with torch.no_grad():\n",
    "    test = testset[2][0]\n",
    "    out2 = model(test.unsqueeze(0).to(device)).cpu().numpy()\n",
    "\n",
    "print(\"different number:\", np.mean(cosin_metric_each(normals, out2.T)))\n",
    "\n",
    "with torch.no_grad():\n",
    "    test = testset_norm[2][0]\n",
    "    out2 = model(test.unsqueeze(0).to(device)).cpu().numpy()\n",
    "\n",
    "print(\"same number:\", np.mean(cosin_metric(normals, out2.T), axis=0))"
   ]
  },
  {
   "cell_type": "code",
   "execution_count": 20,
   "metadata": {},
   "outputs": [
    {
     "name": "stdout",
     "output_type": "stream",
     "text": [
      "different number: 0.2236705720424652\n"
     ]
    }
   ],
   "source": [
    "# compute cosine distance with scipy\n",
    "with torch.no_grad():\n",
    "    test = testset[2][0]\n",
    "    out2 = model(test.unsqueeze(0).to(device)).cpu().numpy()\n",
    "print(\"different number:\", 1 - spatial.distance.cosine(normals[0,:], out2.T))"
   ]
  },
  {
   "cell_type": "code",
   "execution_count": 65,
   "metadata": {},
   "outputs": [
    {
     "data": {
      "image/png": "[encoded data removed]",
      "text/plain": [
       "<Figure size 432x288 with 1 Axes>"
      ]
     },
     "metadata": {
      "needs_background": "light"
     },
     "output_type": "display_data"
    }
   ],
   "source": [
    "# print scatter plot of same 1s\n",
    "# Euclidian\n",
    "norm = []\n",
    "for n in normals1:\n",
    "    norm.append(np.linalg.norm(normals-n))\n",
    "# Cosine simularity\n",
    "norm = np.mean(cosin_metric(normals, normals1.T), axis=0)\n",
    "\n",
    "import matplotlib.pyplot as plt\n",
    "same = norm\n",
    "plt.plot(same)\n",
    "plt.show()"
   ]
  },
  {
   "cell_type": "code",
   "execution_count": 66,
   "metadata": {
    "scrolled": true
   },
   "outputs": [
    {
     "data": {
      "image/png": "[encoded data removed]",
      "text/plain": [
       "<Figure size 432x288 with 1 Axes>"
      ]
     },
     "metadata": {
      "needs_background": "light"
     },
     "output_type": "display_data"
    }
   ],
   "source": [
    "# print scatter plot of same 1s\n",
    "# Euclidian\n",
    "norm = []\n",
    "for n in abnormals:\n",
    "    norm.append(np.linalg.norm(normals-n))\n",
    "    \n",
    "# Cosine simularity\n",
    "norm = np.mean(cosin_metric(normals, abnormals.T), axis=0)\n",
    "import matplotlib.pyplot as plt\n",
    "different = norm\n",
    "plt.plot(different)\n",
    "plt.show()"
   ]
  },
  {
   "cell_type": "markdown",
   "metadata": {},
   "source": [
    "# 推論結果を3D可視化"
   ]
  },
  {
   "cell_type": "code",
   "execution_count": 23,
   "metadata": {},
   "outputs": [
    {
     "name": "stdout",
     "output_type": "stream",
     "text": [
      "3d features shape(8991, 3)\n",
      "labels shape(8991,)\n"
     ]
    }
   ],
   "source": [
    "# https://github.com/egcode/pytorch-losses/blob/master/mnist-visualize-arcface6_fc7-loss.ipynb\n",
    "f3d = []\n",
    "lbls = []\n",
    "for i in range(len(testset_norm)):\n",
    "    image_tensor, label_tensor = testloader1.dataset[i]\n",
    "    label_tensor = torch.tensor(testloader1.dataset[i][1])\n",
    "    image_tensor = image_tensor.reshape(1,1,28,28)\n",
    "\n",
    "    image_tensor, label_tensor = image_tensor.to(device), label_tensor.to(device)\n",
    "\n",
    "    features3d  = model(image_tensor)\n",
    "    logits = metric_fc(features3d, torch.unsqueeze(label_tensor, dim=-1))\n",
    "    _, prediction = torch.max(logits.data, 1)\n",
    "\n",
    "    f3d.append(features3d[0].cpu().detach().numpy())\n",
    "    \n",
    "    prediction = prediction.cpu().detach().numpy()[0]\n",
    "    lbls.append(prediction)\n",
    "\n",
    "feat3d = np.array(f3d)\n",
    "print(\"3d features shape\" + str(feat3d.shape))\n",
    "\n",
    "lbls = np.array(lbls)\n",
    "print(\"labels shape\" + str(lbls.shape))"
   ]
  },
  {
   "cell_type": "code",
   "execution_count": 24,
   "metadata": {},
   "outputs": [
    {
     "data": {
      "image/png": "[encoded data removed]",
      "text/plain": [
       "<Figure size 1152x648 with 1 Axes>"
      ]
     },
     "metadata": {
      "needs_background": "light"
     },
     "output_type": "display_data"
    }
   ],
   "source": [
    "from mpl_toolkits import mplot3d\n",
    "import matplotlib.pyplot as plt\n",
    "%matplotlib inline\n",
    "\n",
    "fig = plt.figure(figsize=(16,9))\n",
    "ax = plt.axes(projection='3d')\n",
    "\n",
    "for i in range(10):\n",
    "    # Data for three-dimensional scattered points\n",
    "    xdata = feat3d[lbls==i,2].flatten()\n",
    "    ydata = feat3d[lbls==i,0].flatten()\n",
    "    zdata = feat3d[lbls==i,1].flatten()\n",
    "    ax.scatter3D(xdata, ydata, zdata);\n",
    "ax.legend(['0', '1', '2', '3', '4', '5', '6', '7', '8', '9'],loc='center left', bbox_to_anchor=(1, 0.5))\n",
    "\n",
    "plt.show()"
   ]
  },
  {
   "cell_type": "markdown",
   "metadata": {},
   "source": [
    "# Visualize by TSNE"
   ]
  },
  {
   "cell_type": "markdown",
   "metadata": {},
   "source": [
    "## 普通の分類結果"
   ]
  },
  {
   "cell_type": "code",
   "execution_count": 25,
   "metadata": {},
   "outputs": [
    {
     "data": {
      "image/png": "[encoded data removed]",
      "text/plain": [
       "<Figure size 432x288 with 2 Axes>"
      ]
     },
     "metadata": {
      "needs_background": "light"
     },
     "output_type": "display_data"
    }
   ],
   "source": [
    "from sklearn.manifold import TSNE\n",
    "# 特徴量抽出\n",
    "feats = normals1\n",
    "# ラベル情報追加\n",
    "\n",
    "# TSNEをfit\n",
    "tSNE_metrics = TSNE(n_components=2, random_state=0).fit_transform(feats)\n",
    "plt.scatter(tSNE_metrics[:, 0], tSNE_metrics[:, 1], c=norm_labels)\n",
    "plt.colorbar()\n",
    "plt.savefig('tsne_classification.png')\n",
    "plt.show()"
   ]
  },
  {
   "cell_type": "markdown",
   "metadata": {},
   "source": [
    "## 異常ラベルとの比較"
   ]
  },
  {
   "cell_type": "code",
   "execution_count": 26,
   "metadata": {},
   "outputs": [
    {
     "data": {
      "image/png": "[encoded data removed]",
      "text/plain": [
       "<Figure size 432x288 with 2 Axes>"
      ]
     },
     "metadata": {
      "needs_background": "light"
     },
     "output_type": "display_data"
    }
   ],
   "source": [
    "predict_y = np.concatenate([normals1, abnormals])\n",
    "diflabel = np.ones_like(different)*9\n",
    "test_y = np.concatenate([norm_labels, diflabel])\n",
    "\n",
    "tSNE_metrics = TSNE(n_components=2, random_state=0).fit_transform(predict_y)\n",
    "plt.scatter(tSNE_metrics[:, 0], tSNE_metrics[:, 1], c=test_y)\n",
    "plt.colorbar()\n",
    "plt.savefig('tsne_abnormals.png')\n",
    "plt.show()"
   ]
  },
  {
   "cell_type": "markdown",
   "metadata": {},
   "source": [
    "## plot roc curve"
   ]
  },
  {
   "cell_type": "code",
   "execution_count": 67,
   "metadata": {},
   "outputs": [],
   "source": [
    "predict_y = np.concatenate([same, different])\n",
    "samelabel = np.ones_like(same)\n",
    "diflabel = np.zeros_like(different)\n",
    "test_y = np.concatenate([samelabel, diflabel])"
   ]
  },
  {
   "cell_type": "code",
   "execution_count": 68,
   "metadata": {},
   "outputs": [],
   "source": [
    "from sklearn import metrics\n",
    "import matplotlib.pyplot as plt\n",
    "import numpy as np\n",
    "\n",
    "# FPR, TPR(, しきい値) を算出\n",
    "fpr, tpr, thresholds = metrics.roc_curve(test_y, predict_y)"
   ]
  },
  {
   "cell_type": "code",
   "execution_count": 69,
   "metadata": {},
   "outputs": [
    {
     "data": {
      "image/png": "[encoded data removed]",
      "text/plain": [
       "<Figure size 432x288 with 1 Axes>"
      ]
     },
     "metadata": {
      "needs_background": "light"
     },
     "output_type": "display_data"
    }
   ],
   "source": [
    "# ついでにAUCも\n",
    "auc = metrics.auc(fpr, tpr)\n",
    "\n",
    "# ROC曲線をプロット\n",
    "plt.plot(fpr, tpr, label='ROC curve (area = %.2f)'%auc)\n",
    "plt.legend()\n",
    "plt.title('ROC curve')\n",
    "plt.xlabel('False Positive Rate')\n",
    "plt.ylabel('True Positive Rate')\n",
    "plt.grid(True)"
   ]
  },
  {
   "cell_type": "code",
   "execution_count": null,
   "metadata": {},
   "outputs": [],
   "source": []
  }
 ],
 "metadata": {
  "kernelspec": {
   "display_name": "Python 3",
   "language": "python",
   "name": "python3"
  },
  "language_info": {
   "codemirror_mode": {
    "name": "ipython",
    "version": 3
   },
   "file_extension": ".py",
   "mimetype": "text/x-python",
   "name": "python",
   "nbconvert_exporter": "python",
   "pygments_lexer": "ipython3",
   "version": "3.8.2"
  }
 },
 "nbformat": 4,
 "nbformat_minor": 2
}
